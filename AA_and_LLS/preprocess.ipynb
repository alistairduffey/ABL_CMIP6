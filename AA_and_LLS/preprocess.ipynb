{
 "cells": [
  {
   "cell_type": "code",
   "execution_count": 4,
   "id": "90c359be-912a-4221-bcaa-9fc3812d611a",
   "metadata": {},
   "outputs": [
    {
     "name": "stdout",
     "output_type": "stream",
     "text": [
      "71\n",
      "45\n",
      "116\n",
      "109\n",
      "44\n"
     ]
    },
    {
     "name": "stderr",
     "output_type": "stream",
     "text": [
      "  0%|          | 0/44 [00:00<?, ?it/s]"
     ]
    },
    {
     "name": "stdout",
     "output_type": "stream",
     "text": [
      "skipping: TaiESM1.nc\n",
      "skipping: AWI-CM-1-1-MR.nc\n",
      "skipping: BCC-CSM2-MR.nc\n",
      "skipping: CAMS-CSM1-0.nc\n",
      "skipping: CAS-ESM2-0.nc\n",
      "skipping: FGOALS-f3-L.nc\n",
      "skipping: FGOALS-g3.nc\n"
     ]
    },
    {
     "name": "stderr",
     "output_type": "stream",
     "text": [
      "/tmp/ipykernel_628/2933826445.py:135: UserWarning: Boolean Series key will be reindexed to match DataFrame index.\n",
      "  dir_ta = DF[DF['Model']==mod][DF['Experiment']==exp]['ta_dirs'].item()\n",
      "/tmp/ipykernel_628/2933826445.py:136: UserWarning: Boolean Series key will be reindexed to match DataFrame index.\n",
      "  dir_tas = DF[DF['Model']==mod][DF['Experiment']==exp]['tas_dirs'].item()\n"
     ]
    },
    {
     "name": "stdout",
     "output_type": "stream",
     "text": [
      "skipping: IITM-ESM.nc\n",
      "skipping: CanESM5.nc\n",
      "skipping: CanESM5-CanOE.nc\n",
      "skipping: CMCC-CM2-SR5.nc\n",
      "skipping: CMCC-ESM2.nc\n",
      "skipping: CNRM-CM6-1.nc\n",
      "skipping: CNRM-CM6-1-HR.nc\n",
      "skipping: CNRM-ESM2-1.nc\n",
      "skipping: ACCESS-ESM1-5.nc\n",
      "skipping: ACCESS-CM2.nc\n",
      "skipping: E3SM-1-1.nc\n",
      "skipping: EC-Earth3.nc\n",
      "skipping: EC-Earth3-CC.nc\n",
      "skipping: EC-Earth3-Veg.nc\n",
      "skipping: EC-Earth3-Veg-LR.nc\n",
      "running: FIO-ESM-2-0.nc\n",
      "historical\n",
      "ssp245\n"
     ]
    },
    {
     "name": "stderr",
     "output_type": "stream",
     "text": [
      "/tmp/ipykernel_628/2933826445.py:135: UserWarning: Boolean Series key will be reindexed to match DataFrame index.\n",
      "  dir_ta = DF[DF['Model']==mod][DF['Experiment']==exp]['ta_dirs'].item()\n",
      "/tmp/ipykernel_628/2933826445.py:136: UserWarning: Boolean Series key will be reindexed to match DataFrame index.\n",
      "  dir_tas = DF[DF['Model']==mod][DF['Experiment']==exp]['tas_dirs'].item()\n",
      " 52%|█████▏    | 23/44 [01:43<01:34,  4.51s/it]/tmp/ipykernel_628/2933826445.py:135: UserWarning: Boolean Series key will be reindexed to match DataFrame index.\n",
      "  dir_ta = DF[DF['Model']==mod][DF['Experiment']==exp]['ta_dirs'].item()\n",
      "/tmp/ipykernel_628/2933826445.py:136: UserWarning: Boolean Series key will be reindexed to match DataFrame index.\n",
      "  dir_tas = DF[DF['Model']==mod][DF['Experiment']==exp]['tas_dirs'].item()\n"
     ]
    },
    {
     "name": "stdout",
     "output_type": "stream",
     "text": [
      "running: INM-CM4-8.nc\n",
      "historical\n",
      "ssp245\n"
     ]
    },
    {
     "name": "stderr",
     "output_type": "stream",
     "text": [
      "/tmp/ipykernel_628/2933826445.py:135: UserWarning: Boolean Series key will be reindexed to match DataFrame index.\n",
      "  dir_ta = DF[DF['Model']==mod][DF['Experiment']==exp]['ta_dirs'].item()\n",
      "/tmp/ipykernel_628/2933826445.py:136: UserWarning: Boolean Series key will be reindexed to match DataFrame index.\n",
      "  dir_tas = DF[DF['Model']==mod][DF['Experiment']==exp]['tas_dirs'].item()\n",
      " 55%|█████▍    | 24/44 [02:53<02:46,  8.33s/it]/tmp/ipykernel_628/2933826445.py:135: UserWarning: Boolean Series key will be reindexed to match DataFrame index.\n",
      "  dir_ta = DF[DF['Model']==mod][DF['Experiment']==exp]['ta_dirs'].item()\n",
      "/tmp/ipykernel_628/2933826445.py:136: UserWarning: Boolean Series key will be reindexed to match DataFrame index.\n",
      "  dir_tas = DF[DF['Model']==mod][DF['Experiment']==exp]['tas_dirs'].item()\n"
     ]
    },
    {
     "name": "stdout",
     "output_type": "stream",
     "text": [
      "running: INM-CM5-0.nc\n",
      "historical\n",
      "ssp245\n"
     ]
    },
    {
     "name": "stderr",
     "output_type": "stream",
     "text": [
      "/tmp/ipykernel_628/2933826445.py:135: UserWarning: Boolean Series key will be reindexed to match DataFrame index.\n",
      "  dir_ta = DF[DF['Model']==mod][DF['Experiment']==exp]['ta_dirs'].item()\n",
      "/tmp/ipykernel_628/2933826445.py:136: UserWarning: Boolean Series key will be reindexed to match DataFrame index.\n",
      "  dir_tas = DF[DF['Model']==mod][DF['Experiment']==exp]['tas_dirs'].item()\n",
      " 57%|█████▋    | 25/44 [04:03<04:07, 13.05s/it]/tmp/ipykernel_628/2933826445.py:135: UserWarning: Boolean Series key will be reindexed to match DataFrame index.\n",
      "  dir_ta = DF[DF['Model']==mod][DF['Experiment']==exp]['ta_dirs'].item()\n",
      "/tmp/ipykernel_628/2933826445.py:136: UserWarning: Boolean Series key will be reindexed to match DataFrame index.\n",
      "  dir_tas = DF[DF['Model']==mod][DF['Experiment']==exp]['tas_dirs'].item()\n"
     ]
    },
    {
     "name": "stdout",
     "output_type": "stream",
     "text": [
      "running: IPSL-CM6A-LR.nc\n",
      "historical\n",
      "ssp245\n"
     ]
    },
    {
     "name": "stderr",
     "output_type": "stream",
     "text": [
      "/tmp/ipykernel_628/2933826445.py:135: UserWarning: Boolean Series key will be reindexed to match DataFrame index.\n",
      "  dir_ta = DF[DF['Model']==mod][DF['Experiment']==exp]['ta_dirs'].item()\n",
      "/tmp/ipykernel_628/2933826445.py:136: UserWarning: Boolean Series key will be reindexed to match DataFrame index.\n",
      "  dir_tas = DF[DF['Model']==mod][DF['Experiment']==exp]['tas_dirs'].item()\n",
      " 59%|█████▉    | 26/44 [04:54<05:02, 16.81s/it]/tmp/ipykernel_628/2933826445.py:135: UserWarning: Boolean Series key will be reindexed to match DataFrame index.\n",
      "  dir_ta = DF[DF['Model']==mod][DF['Experiment']==exp]['ta_dirs'].item()\n",
      "/tmp/ipykernel_628/2933826445.py:136: UserWarning: Boolean Series key will be reindexed to match DataFrame index.\n",
      "  dir_tas = DF[DF['Model']==mod][DF['Experiment']==exp]['tas_dirs'].item()\n"
     ]
    },
    {
     "name": "stdout",
     "output_type": "stream",
     "text": [
      "running: KIOST-ESM.nc\n",
      "historical\n",
      "ssp245\n"
     ]
    },
    {
     "name": "stderr",
     "output_type": "stream",
     "text": [
      "/tmp/ipykernel_628/2933826445.py:135: UserWarning: Boolean Series key will be reindexed to match DataFrame index.\n",
      "  dir_ta = DF[DF['Model']==mod][DF['Experiment']==exp]['ta_dirs'].item()\n",
      "/tmp/ipykernel_628/2933826445.py:136: UserWarning: Boolean Series key will be reindexed to match DataFrame index.\n",
      "  dir_tas = DF[DF['Model']==mod][DF['Experiment']==exp]['tas_dirs'].item()\n",
      " 61%|██████▏   | 27/44 [05:52<06:13, 21.96s/it]/tmp/ipykernel_628/2933826445.py:135: UserWarning: Boolean Series key will be reindexed to match DataFrame index.\n",
      "  dir_ta = DF[DF['Model']==mod][DF['Experiment']==exp]['ta_dirs'].item()\n",
      "/tmp/ipykernel_628/2933826445.py:136: UserWarning: Boolean Series key will be reindexed to match DataFrame index.\n",
      "  dir_tas = DF[DF['Model']==mod][DF['Experiment']==exp]['tas_dirs'].item()\n"
     ]
    },
    {
     "name": "stdout",
     "output_type": "stream",
     "text": [
      "running: MIROC-ES2L.nc\n",
      "historical\n",
      "ssp245\n"
     ]
    },
    {
     "name": "stderr",
     "output_type": "stream",
     "text": [
      "/tmp/ipykernel_628/2933826445.py:135: UserWarning: Boolean Series key will be reindexed to match DataFrame index.\n",
      "  dir_ta = DF[DF['Model']==mod][DF['Experiment']==exp]['ta_dirs'].item()\n",
      "/tmp/ipykernel_628/2933826445.py:136: UserWarning: Boolean Series key will be reindexed to match DataFrame index.\n",
      "  dir_tas = DF[DF['Model']==mod][DF['Experiment']==exp]['tas_dirs'].item()\n",
      " 64%|██████▎   | 28/44 [06:35<06:43, 25.21s/it]/tmp/ipykernel_628/2933826445.py:135: UserWarning: Boolean Series key will be reindexed to match DataFrame index.\n",
      "  dir_ta = DF[DF['Model']==mod][DF['Experiment']==exp]['ta_dirs'].item()\n",
      "/tmp/ipykernel_628/2933826445.py:136: UserWarning: Boolean Series key will be reindexed to match DataFrame index.\n",
      "  dir_tas = DF[DF['Model']==mod][DF['Experiment']==exp]['tas_dirs'].item()\n"
     ]
    },
    {
     "name": "stdout",
     "output_type": "stream",
     "text": [
      "running: MIROC6.nc\n",
      "historical\n",
      "ssp245\n"
     ]
    },
    {
     "name": "stderr",
     "output_type": "stream",
     "text": [
      "/tmp/ipykernel_628/2933826445.py:135: UserWarning: Boolean Series key will be reindexed to match DataFrame index.\n",
      "  dir_ta = DF[DF['Model']==mod][DF['Experiment']==exp]['ta_dirs'].item()\n",
      "/tmp/ipykernel_628/2933826445.py:136: UserWarning: Boolean Series key will be reindexed to match DataFrame index.\n",
      "  dir_tas = DF[DF['Model']==mod][DF['Experiment']==exp]['tas_dirs'].item()\n",
      " 66%|██████▌   | 29/44 [07:59<08:53, 35.55s/it]/tmp/ipykernel_628/2933826445.py:135: UserWarning: Boolean Series key will be reindexed to match DataFrame index.\n",
      "  dir_ta = DF[DF['Model']==mod][DF['Experiment']==exp]['ta_dirs'].item()\n"
     ]
    },
    {
     "name": "stdout",
     "output_type": "stream",
     "text": [
      "running: HadGEM3-GC31-LL.nc\n",
      "historical\n"
     ]
    },
    {
     "name": "stderr",
     "output_type": "stream",
     "text": [
      "/tmp/ipykernel_628/2933826445.py:136: UserWarning: Boolean Series key will be reindexed to match DataFrame index.\n",
      "  dir_tas = DF[DF['Model']==mod][DF['Experiment']==exp]['tas_dirs'].item()\n"
     ]
    },
    {
     "name": "stdout",
     "output_type": "stream",
     "text": [
      "ssp245\n"
     ]
    },
    {
     "name": "stderr",
     "output_type": "stream",
     "text": [
      "/tmp/ipykernel_628/2933826445.py:135: UserWarning: Boolean Series key will be reindexed to match DataFrame index.\n",
      "  dir_ta = DF[DF['Model']==mod][DF['Experiment']==exp]['ta_dirs'].item()\n",
      "/tmp/ipykernel_628/2933826445.py:136: UserWarning: Boolean Series key will be reindexed to match DataFrame index.\n",
      "  dir_tas = DF[DF['Model']==mod][DF['Experiment']==exp]['tas_dirs'].item()\n",
      " 68%|██████▊   | 30/44 [09:11<10:00, 42.88s/it]"
     ]
    },
    {
     "name": "stdout",
     "output_type": "stream",
     "text": [
      "running: UKESM1-0-LL.nc\n",
      "historical\n"
     ]
    },
    {
     "name": "stderr",
     "output_type": "stream",
     "text": [
      "/tmp/ipykernel_628/2933826445.py:135: UserWarning: Boolean Series key will be reindexed to match DataFrame index.\n",
      "  dir_ta = DF[DF['Model']==mod][DF['Experiment']==exp]['ta_dirs'].item()\n",
      "/tmp/ipykernel_628/2933826445.py:136: UserWarning: Boolean Series key will be reindexed to match DataFrame index.\n",
      "  dir_tas = DF[DF['Model']==mod][DF['Experiment']==exp]['tas_dirs'].item()\n"
     ]
    },
    {
     "name": "stdout",
     "output_type": "stream",
     "text": [
      "ssp245\n"
     ]
    },
    {
     "name": "stderr",
     "output_type": "stream",
     "text": [
      "/tmp/ipykernel_628/2933826445.py:135: UserWarning: Boolean Series key will be reindexed to match DataFrame index.\n",
      "  dir_ta = DF[DF['Model']==mod][DF['Experiment']==exp]['ta_dirs'].item()\n",
      "/tmp/ipykernel_628/2933826445.py:136: UserWarning: Boolean Series key will be reindexed to match DataFrame index.\n",
      "  dir_tas = DF[DF['Model']==mod][DF['Experiment']==exp]['tas_dirs'].item()\n",
      " 70%|███████   | 31/44 [10:21<10:37, 49.00s/it]/tmp/ipykernel_628/2933826445.py:135: UserWarning: Boolean Series key will be reindexed to match DataFrame index.\n",
      "  dir_ta = DF[DF['Model']==mod][DF['Experiment']==exp]['ta_dirs'].item()\n",
      "/tmp/ipykernel_628/2933826445.py:136: UserWarning: Boolean Series key will be reindexed to match DataFrame index.\n",
      "  dir_tas = DF[DF['Model']==mod][DF['Experiment']==exp]['tas_dirs'].item()\n"
     ]
    },
    {
     "name": "stdout",
     "output_type": "stream",
     "text": [
      "running: MPI-ESM1-2-HR.nc\n",
      "historical\n",
      "ssp245\n"
     ]
    },
    {
     "name": "stderr",
     "output_type": "stream",
     "text": [
      "/tmp/ipykernel_628/2933826445.py:135: UserWarning: Boolean Series key will be reindexed to match DataFrame index.\n",
      "  dir_ta = DF[DF['Model']==mod][DF['Experiment']==exp]['ta_dirs'].item()\n",
      "/tmp/ipykernel_628/2933826445.py:136: UserWarning: Boolean Series key will be reindexed to match DataFrame index.\n",
      "  dir_tas = DF[DF['Model']==mod][DF['Experiment']==exp]['tas_dirs'].item()\n",
      " 73%|███████▎  | 32/44 [12:34<13:53, 69.44s/it]/tmp/ipykernel_628/2933826445.py:135: UserWarning: Boolean Series key will be reindexed to match DataFrame index.\n",
      "  dir_ta = DF[DF['Model']==mod][DF['Experiment']==exp]['ta_dirs'].item()\n",
      "/tmp/ipykernel_628/2933826445.py:136: UserWarning: Boolean Series key will be reindexed to match DataFrame index.\n",
      "  dir_tas = DF[DF['Model']==mod][DF['Experiment']==exp]['tas_dirs'].item()\n"
     ]
    },
    {
     "name": "stdout",
     "output_type": "stream",
     "text": [
      "running: MPI-ESM1-2-LR.nc\n",
      "historical\n",
      "ssp245\n"
     ]
    },
    {
     "name": "stderr",
     "output_type": "stream",
     "text": [
      "/tmp/ipykernel_628/2933826445.py:135: UserWarning: Boolean Series key will be reindexed to match DataFrame index.\n",
      "  dir_ta = DF[DF['Model']==mod][DF['Experiment']==exp]['ta_dirs'].item()\n",
      "/tmp/ipykernel_628/2933826445.py:136: UserWarning: Boolean Series key will be reindexed to match DataFrame index.\n",
      "  dir_tas = DF[DF['Model']==mod][DF['Experiment']==exp]['tas_dirs'].item()\n",
      " 75%|███████▌  | 33/44 [13:41<12:37, 68.82s/it]/tmp/ipykernel_628/2933826445.py:135: UserWarning: Boolean Series key will be reindexed to match DataFrame index.\n",
      "  dir_ta = DF[DF['Model']==mod][DF['Experiment']==exp]['ta_dirs'].item()\n",
      "/tmp/ipykernel_628/2933826445.py:136: UserWarning: Boolean Series key will be reindexed to match DataFrame index.\n",
      "  dir_tas = DF[DF['Model']==mod][DF['Experiment']==exp]['tas_dirs'].item()\n"
     ]
    },
    {
     "name": "stdout",
     "output_type": "stream",
     "text": [
      "running: MRI-ESM2-0.nc\n",
      "historical\n",
      "ssp245\n"
     ]
    },
    {
     "name": "stderr",
     "output_type": "stream",
     "text": [
      "/tmp/ipykernel_628/2933826445.py:135: UserWarning: Boolean Series key will be reindexed to match DataFrame index.\n",
      "  dir_ta = DF[DF['Model']==mod][DF['Experiment']==exp]['ta_dirs'].item()\n",
      "/tmp/ipykernel_628/2933826445.py:136: UserWarning: Boolean Series key will be reindexed to match DataFrame index.\n",
      "  dir_tas = DF[DF['Model']==mod][DF['Experiment']==exp]['tas_dirs'].item()\n",
      " 77%|███████▋  | 34/44 [14:50<11:27, 68.72s/it]/tmp/ipykernel_628/2933826445.py:135: UserWarning: Boolean Series key will be reindexed to match DataFrame index.\n",
      "  dir_ta = DF[DF['Model']==mod][DF['Experiment']==exp]['ta_dirs'].item()\n",
      "/tmp/ipykernel_628/2933826445.py:136: UserWarning: Boolean Series key will be reindexed to match DataFrame index.\n",
      "  dir_tas = DF[DF['Model']==mod][DF['Experiment']==exp]['tas_dirs'].item()\n"
     ]
    },
    {
     "name": "stdout",
     "output_type": "stream",
     "text": [
      "running: GISS-E2-1-G.nc\n",
      "historical\n",
      "ssp245\n"
     ]
    },
    {
     "name": "stderr",
     "output_type": "stream",
     "text": [
      "/tmp/ipykernel_628/2933826445.py:135: UserWarning: Boolean Series key will be reindexed to match DataFrame index.\n",
      "  dir_ta = DF[DF['Model']==mod][DF['Experiment']==exp]['ta_dirs'].item()\n",
      "/tmp/ipykernel_628/2933826445.py:136: UserWarning: Boolean Series key will be reindexed to match DataFrame index.\n",
      "  dir_tas = DF[DF['Model']==mod][DF['Experiment']==exp]['tas_dirs'].item()\n",
      " 80%|███████▉  | 35/44 [15:43<09:38, 64.33s/it]/tmp/ipykernel_628/2933826445.py:135: UserWarning: Boolean Series key will be reindexed to match DataFrame index.\n",
      "  dir_ta = DF[DF['Model']==mod][DF['Experiment']==exp]['ta_dirs'].item()\n",
      "/tmp/ipykernel_628/2933826445.py:136: UserWarning: Boolean Series key will be reindexed to match DataFrame index.\n",
      "  dir_tas = DF[DF['Model']==mod][DF['Experiment']==exp]['tas_dirs'].item()\n"
     ]
    },
    {
     "name": "stdout",
     "output_type": "stream",
     "text": [
      "running: CESM2-WACCM.nc\n",
      "historical\n"
     ]
    },
    {
     "name": "stderr",
     "output_type": "stream",
     "text": [
      "/home/users/a_duffey/.conda/envs/main/lib/python3.10/site-packages/xarray/conventions.py:516: SerializationWarning: variable 'ta' has multiple fill values {1e+20, 1e+20}, decoding all values to NaN.\n",
      "  new_vars[k] = decode_cf_variable(\n",
      "/home/users/a_duffey/.conda/envs/main/lib/python3.10/site-packages/xarray/conventions.py:516: SerializationWarning: variable 'tas' has multiple fill values {1e+20, 1e+20}, decoding all values to NaN.\n",
      "  new_vars[k] = decode_cf_variable(\n"
     ]
    },
    {
     "name": "stdout",
     "output_type": "stream",
     "text": [
      "ssp245\n"
     ]
    },
    {
     "name": "stderr",
     "output_type": "stream",
     "text": [
      "/tmp/ipykernel_628/2933826445.py:135: UserWarning: Boolean Series key will be reindexed to match DataFrame index.\n",
      "  dir_ta = DF[DF['Model']==mod][DF['Experiment']==exp]['ta_dirs'].item()\n",
      "/tmp/ipykernel_628/2933826445.py:136: UserWarning: Boolean Series key will be reindexed to match DataFrame index.\n",
      "  dir_tas = DF[DF['Model']==mod][DF['Experiment']==exp]['tas_dirs'].item()\n",
      "/home/users/a_duffey/.conda/envs/main/lib/python3.10/site-packages/xarray/conventions.py:516: SerializationWarning: variable 'ta' has multiple fill values {1e+20, 1e+20}, decoding all values to NaN.\n",
      "  new_vars[k] = decode_cf_variable(\n",
      "/home/users/a_duffey/.conda/envs/main/lib/python3.10/site-packages/xarray/conventions.py:516: SerializationWarning: variable 'tas' has multiple fill values {1e+20, 1e+20}, decoding all values to NaN.\n",
      "  new_vars[k] = decode_cf_variable(\n",
      " 82%|████████▏ | 36/44 [16:51<08:43, 65.39s/it]/tmp/ipykernel_628/2933826445.py:135: UserWarning: Boolean Series key will be reindexed to match DataFrame index.\n",
      "  dir_ta = DF[DF['Model']==mod][DF['Experiment']==exp]['ta_dirs'].item()\n",
      "/tmp/ipykernel_628/2933826445.py:136: UserWarning: Boolean Series key will be reindexed to match DataFrame index.\n",
      "  dir_tas = DF[DF['Model']==mod][DF['Experiment']==exp]['tas_dirs'].item()\n"
     ]
    },
    {
     "name": "stdout",
     "output_type": "stream",
     "text": [
      "running: NorESM2-LM.nc\n",
      "historical\n",
      "ssp245\n"
     ]
    },
    {
     "name": "stderr",
     "output_type": "stream",
     "text": [
      "/tmp/ipykernel_628/2933826445.py:135: UserWarning: Boolean Series key will be reindexed to match DataFrame index.\n",
      "  dir_ta = DF[DF['Model']==mod][DF['Experiment']==exp]['ta_dirs'].item()\n",
      "/tmp/ipykernel_628/2933826445.py:136: UserWarning: Boolean Series key will be reindexed to match DataFrame index.\n",
      "  dir_tas = DF[DF['Model']==mod][DF['Experiment']==exp]['tas_dirs'].item()\n",
      " 84%|████████▍ | 37/44 [18:00<07:45, 66.54s/it]/tmp/ipykernel_628/2933826445.py:135: UserWarning: Boolean Series key will be reindexed to match DataFrame index.\n",
      "  dir_ta = DF[DF['Model']==mod][DF['Experiment']==exp]['ta_dirs'].item()\n",
      "/tmp/ipykernel_628/2933826445.py:136: UserWarning: Boolean Series key will be reindexed to match DataFrame index.\n",
      "  dir_tas = DF[DF['Model']==mod][DF['Experiment']==exp]['tas_dirs'].item()\n"
     ]
    },
    {
     "name": "stdout",
     "output_type": "stream",
     "text": [
      "running: NorESM2-MM.nc\n",
      "historical\n",
      "ssp245\n"
     ]
    },
    {
     "name": "stderr",
     "output_type": "stream",
     "text": [
      "/tmp/ipykernel_628/2933826445.py:135: UserWarning: Boolean Series key will be reindexed to match DataFrame index.\n",
      "  dir_ta = DF[DF['Model']==mod][DF['Experiment']==exp]['ta_dirs'].item()\n",
      "/tmp/ipykernel_628/2933826445.py:136: UserWarning: Boolean Series key will be reindexed to match DataFrame index.\n",
      "  dir_tas = DF[DF['Model']==mod][DF['Experiment']==exp]['tas_dirs'].item()\n",
      " 86%|████████▋ | 38/44 [19:37<07:32, 75.34s/it]"
     ]
    },
    {
     "name": "stdout",
     "output_type": "stream",
     "text": [
      "running: KACE-1-0-G.nc\n",
      "historical\n"
     ]
    },
    {
     "name": "stderr",
     "output_type": "stream",
     "text": [
      "/tmp/ipykernel_628/2933826445.py:135: UserWarning: Boolean Series key will be reindexed to match DataFrame index.\n",
      "  dir_ta = DF[DF['Model']==mod][DF['Experiment']==exp]['ta_dirs'].item()\n",
      "/tmp/ipykernel_628/2933826445.py:136: UserWarning: Boolean Series key will be reindexed to match DataFrame index.\n",
      "  dir_tas = DF[DF['Model']==mod][DF['Experiment']==exp]['tas_dirs'].item()\n"
     ]
    },
    {
     "name": "stdout",
     "output_type": "stream",
     "text": [
      "ssp245\n"
     ]
    },
    {
     "name": "stderr",
     "output_type": "stream",
     "text": [
      "/tmp/ipykernel_628/2933826445.py:135: UserWarning: Boolean Series key will be reindexed to match DataFrame index.\n",
      "  dir_ta = DF[DF['Model']==mod][DF['Experiment']==exp]['ta_dirs'].item()\n",
      "/tmp/ipykernel_628/2933826445.py:136: UserWarning: Boolean Series key will be reindexed to match DataFrame index.\n",
      "  dir_tas = DF[DF['Model']==mod][DF['Experiment']==exp]['tas_dirs'].item()\n",
      " 89%|████████▊ | 39/44 [20:52<06:17, 75.41s/it]/tmp/ipykernel_628/2933826445.py:135: UserWarning: Boolean Series key will be reindexed to match DataFrame index.\n",
      "  dir_ta = DF[DF['Model']==mod][DF['Experiment']==exp]['ta_dirs'].item()\n",
      "/tmp/ipykernel_628/2933826445.py:136: UserWarning: Boolean Series key will be reindexed to match DataFrame index.\n",
      "  dir_tas = DF[DF['Model']==mod][DF['Experiment']==exp]['tas_dirs'].item()\n"
     ]
    },
    {
     "name": "stdout",
     "output_type": "stream",
     "text": [
      "running: GFDL-CM4.nc\n",
      "historical\n",
      "ssp245\n"
     ]
    },
    {
     "name": "stderr",
     "output_type": "stream",
     "text": [
      "/tmp/ipykernel_628/2933826445.py:135: UserWarning: Boolean Series key will be reindexed to match DataFrame index.\n",
      "  dir_ta = DF[DF['Model']==mod][DF['Experiment']==exp]['ta_dirs'].item()\n",
      "/tmp/ipykernel_628/2933826445.py:136: UserWarning: Boolean Series key will be reindexed to match DataFrame index.\n",
      "  dir_tas = DF[DF['Model']==mod][DF['Experiment']==exp]['tas_dirs'].item()\n",
      " 91%|█████████ | 40/44 [21:55<04:46, 71.53s/it]/tmp/ipykernel_628/2933826445.py:135: UserWarning: Boolean Series key will be reindexed to match DataFrame index.\n",
      "  dir_ta = DF[DF['Model']==mod][DF['Experiment']==exp]['ta_dirs'].item()\n",
      "/tmp/ipykernel_628/2933826445.py:136: UserWarning: Boolean Series key will be reindexed to match DataFrame index.\n",
      "  dir_tas = DF[DF['Model']==mod][DF['Experiment']==exp]['tas_dirs'].item()\n"
     ]
    },
    {
     "name": "stdout",
     "output_type": "stream",
     "text": [
      "running: GFDL-ESM4.nc\n",
      "historical\n",
      "ssp245\n"
     ]
    },
    {
     "name": "stderr",
     "output_type": "stream",
     "text": [
      "/tmp/ipykernel_628/2933826445.py:135: UserWarning: Boolean Series key will be reindexed to match DataFrame index.\n",
      "  dir_ta = DF[DF['Model']==mod][DF['Experiment']==exp]['ta_dirs'].item()\n",
      "/tmp/ipykernel_628/2933826445.py:136: UserWarning: Boolean Series key will be reindexed to match DataFrame index.\n",
      "  dir_tas = DF[DF['Model']==mod][DF['Experiment']==exp]['tas_dirs'].item()\n",
      " 93%|█████████▎| 41/44 [22:57<03:26, 68.91s/it]/tmp/ipykernel_628/2933826445.py:135: UserWarning: Boolean Series key will be reindexed to match DataFrame index.\n",
      "  dir_ta = DF[DF['Model']==mod][DF['Experiment']==exp]['ta_dirs'].item()\n",
      "/tmp/ipykernel_628/2933826445.py:136: UserWarning: Boolean Series key will be reindexed to match DataFrame index.\n",
      "  dir_tas = DF[DF['Model']==mod][DF['Experiment']==exp]['tas_dirs'].item()\n"
     ]
    },
    {
     "name": "stdout",
     "output_type": "stream",
     "text": [
      "running: NESM3.nc\n",
      "historical\n",
      "ssp245\n"
     ]
    },
    {
     "name": "stderr",
     "output_type": "stream",
     "text": [
      "/tmp/ipykernel_628/2933826445.py:135: UserWarning: Boolean Series key will be reindexed to match DataFrame index.\n",
      "  dir_ta = DF[DF['Model']==mod][DF['Experiment']==exp]['ta_dirs'].item()\n",
      "/tmp/ipykernel_628/2933826445.py:136: UserWarning: Boolean Series key will be reindexed to match DataFrame index.\n",
      "  dir_tas = DF[DF['Model']==mod][DF['Experiment']==exp]['tas_dirs'].item()\n",
      " 95%|█████████▌| 42/44 [24:06<02:17, 68.91s/it]/tmp/ipykernel_628/2933826445.py:135: UserWarning: Boolean Series key will be reindexed to match DataFrame index.\n",
      "  dir_ta = DF[DF['Model']==mod][DF['Experiment']==exp]['ta_dirs'].item()\n",
      "/tmp/ipykernel_628/2933826445.py:136: UserWarning: Boolean Series key will be reindexed to match DataFrame index.\n",
      "  dir_tas = DF[DF['Model']==mod][DF['Experiment']==exp]['tas_dirs'].item()\n"
     ]
    },
    {
     "name": "stdout",
     "output_type": "stream",
     "text": [
      "running: CIESM.nc\n",
      "historical\n",
      "ssp245\n"
     ]
    },
    {
     "name": "stderr",
     "output_type": "stream",
     "text": [
      "/tmp/ipykernel_628/2933826445.py:135: UserWarning: Boolean Series key will be reindexed to match DataFrame index.\n",
      "  dir_ta = DF[DF['Model']==mod][DF['Experiment']==exp]['ta_dirs'].item()\n",
      "/tmp/ipykernel_628/2933826445.py:136: UserWarning: Boolean Series key will be reindexed to match DataFrame index.\n",
      "  dir_tas = DF[DF['Model']==mod][DF['Experiment']==exp]['tas_dirs'].item()\n",
      " 98%|█████████▊| 43/44 [25:47<01:18, 78.30s/it]/tmp/ipykernel_628/2933826445.py:135: UserWarning: Boolean Series key will be reindexed to match DataFrame index.\n",
      "  dir_ta = DF[DF['Model']==mod][DF['Experiment']==exp]['ta_dirs'].item()\n",
      "/tmp/ipykernel_628/2933826445.py:136: UserWarning: Boolean Series key will be reindexed to match DataFrame index.\n",
      "  dir_tas = DF[DF['Model']==mod][DF['Experiment']==exp]['tas_dirs'].item()\n"
     ]
    },
    {
     "name": "stdout",
     "output_type": "stream",
     "text": [
      "running: MCM-UA-1-0.nc\n",
      "historical\n",
      "ssp245\n"
     ]
    },
    {
     "name": "stderr",
     "output_type": "stream",
     "text": [
      "/tmp/ipykernel_628/2933826445.py:135: UserWarning: Boolean Series key will be reindexed to match DataFrame index.\n",
      "  dir_ta = DF[DF['Model']==mod][DF['Experiment']==exp]['ta_dirs'].item()\n",
      "/tmp/ipykernel_628/2933826445.py:136: UserWarning: Boolean Series key will be reindexed to match DataFrame index.\n",
      "  dir_tas = DF[DF['Model']==mod][DF['Experiment']==exp]['tas_dirs'].item()\n",
      "100%|██████████| 44/44 [26:32<00:00, 36.20s/it]\n"
     ]
    }
   ],
   "source": [
    "import matplotlib.pyplot as plt\n",
    "import numpy as np\n",
    "import xarray as xr\n",
    "import os\n",
    "import glob\n",
    "#import matplotlib.pyplot as plt\n",
    "#import cartopy.crs as ccrs\n",
    "#import cartopy.feature as cfeature\n",
    "import pandas as pd\n",
    "import json\n",
    "import cftime\n",
    "#from itertools import product\n",
    "from cftime import DatetimeNoLeap\n",
    "#import Gridding\n",
    "#from nc_processing import *\n",
    "#from JASMIN_utils import *\n",
    "#from analysis import * \n",
    "#from plotting import *\n",
    "#import esmvalcore.preprocessor\n",
    "import xesmf as xe\n",
    "import warnings\n",
    "#%matplotlib inline\n",
    "#import seaborn as sns\n",
    "#sns.set()\n",
    "from tqdm import tqdm\n",
    "#from scipy.stats import linregress\n",
    "from nc_processing import calc_spatial_mean\n",
    "from xmip.preprocessing import rename_cmip6\n",
    "\n",
    "\n",
    "\n",
    "def read_in(dir, plev_val=None, rename=None):\n",
    "    files = []\n",
    "    for x in os.listdir(dir):\n",
    "        files.append(dir + x)\n",
    "    ds = rename_cmip6(xr.open_mfdataset(files))\n",
    "    \n",
    "    if plev_val:\n",
    "        ds = ds.sel(plev=plev_val, method=\"nearest\", tolerance=1000)\n",
    "\n",
    "    if rename:\n",
    "        ds = ds.rename(rename)\n",
    "\n",
    "    return ds\n",
    "\n",
    "\n",
    "### SETTINGS\n",
    "\n",
    "arctic_bnd = 66\n",
    "high_arctic_bnd = 75\n",
    "tropics_bnds = [-30, 30]\n",
    "\n",
    "### cell makes a dataframe containing paths to air temp data (below is just 1st ens mem)\n",
    "def get_ta_tas_dirs(exps = [\"historical\", \"ssp245\"]):\n",
    "    \n",
    "    #exps = ['ssp245']\n",
    "    #exps = ['ssp126']\n",
    "    var_path = \"Amon/ta\"\n",
    "    #var_path = \"SImon/siconca\"\n",
    "    dfs = []\n",
    "    \n",
    "    for experiment in exps:\n",
    "        dirs = []\n",
    "        if experiment == \"historical\":\n",
    "            exp_set = \"CMIP\"\n",
    "        else:\n",
    "            exp_set = \"ScenarioMIP\"\n",
    "        for x in glob.glob('/badc/cmip6/data/CMIP6/{es}/*/*/{e}/r1i*/{v}/*/latest/'.format(es=exp_set, e=experiment, v=var_path)):\n",
    "            dirs.append(x)\n",
    "        model = []\n",
    "        ensemble_member = []\n",
    "        for dir in dirs:\n",
    "            model.append(dir.split('/')[7])\n",
    "            ensemble_member.append(dir.split('/')[9])\n",
    "            \n",
    "        #dirs.reverse()\n",
    "        print(len(dirs))\n",
    "        df = pd.DataFrame({'ta_dirs': dirs, \n",
    "                           'Model': model,\n",
    "                           'Ensemble_member': ensemble_member})\n",
    "        df['Experiment']=experiment\n",
    "        df['tas_dirs'] = df['ta_dirs'].str.replace('Amon/ta', 'Amon/tas')\n",
    "        for dir in df['tas_dirs']:\n",
    "            if not os.path.isdir(dir):\n",
    "                print('no tas path: {}'.format(dir))\n",
    "        \n",
    "        \n",
    "        rows_to_drop = []\n",
    "        for ind in df.index:\n",
    "            dir = df['tas_dirs'][ind]\n",
    "            if not os.path.isdir(dir):\n",
    "                rows_to_drop.append(ind)\n",
    "        \n",
    "        df.drop(rows_to_drop, axis=0, inplace=True)\n",
    "        df.reset_index(drop=True, inplace=True)  \n",
    "        \n",
    "        #check for any remaning errors:\n",
    "        for dir in df['tas_dirs']:\n",
    "            if not os.path.isdir(dir):\n",
    "                print('drop failed, error on: {}'.format(dir))\n",
    "        dfs.append(df)\n",
    "    \n",
    "    DF = pd.concat(dfs).reset_index()\n",
    "    print(len(DF))\n",
    "    DF = DF.drop_duplicates(subset=['Model', 'Experiment'])\n",
    "    print(len(DF))\n",
    "    \n",
    "    return DF\n",
    "    \n",
    "DF = get_ta_tas_dirs(exps = [\"historical\", \"ssp245\"])\n",
    "models =DF['Model'].unique()\n",
    "exps = DF['Experiment'].unique()\n",
    "\n",
    "## only run over models with both historical and ssp245:\n",
    "mods_ssp245 = DF[DF['Experiment']=='ssp245']['Model'].unique()\n",
    "mods_hist = DF[DF['Experiment']=='historical']['Model'].unique()\n",
    "mods_to_run = [x for x in mods_hist if x in mods_ssp245]\n",
    "print(len(mods_to_run))\n",
    "\n",
    "### the functions below are used to read in ta and tas from a \n",
    "### dir, and process into DJF. If multiple exps are used,\n",
    "### they must be contiguous in time\n",
    "\n",
    "def get_ds_mod(mod, \n",
    "               exps = ['historical', 'ssp245'],\n",
    "               plev=85000):\n",
    "                   \n",
    "    \"\"\" returns a dataset containing both tas and ta\n",
    "    (at a given pressure level), concated on time into\n",
    "    one 1850-2100 timeseries. keep spatial dims for now \"\"\"\n",
    "\n",
    "    dss = []\n",
    "    for exp in exps:\n",
    "        print(exp)\n",
    "        dir_ta = DF[DF['Model']==mod][DF['Experiment']==exp]['ta_dirs'].item()\n",
    "        dir_tas = DF[DF['Model']==mod][DF['Experiment']==exp]['tas_dirs'].item()\n",
    "        \n",
    "        ds_ta = read_in(dir_ta, plev_val=plev, rename={'ta':'ta_850'}) \n",
    "        ds_tas = read_in(dir_tas)\n",
    "        \n",
    "        if mod == 'FIO-ESM-2-0':\n",
    "            ds = xr.merge([ds_ta, ds_tas], compat='override')\n",
    "        else:\n",
    "            ds = xr.merge([ds_ta, ds_tas])\n",
    "        dss.append(ds)\n",
    "    DS = xr.concat(dss, dim='time')\n",
    "    ## make sure no duplicate times from any pesky runs with \n",
    "    ## overlapping ranges (looking at you FGOALS..)\n",
    "    _, index = np.unique(DS['time'], return_index=True)\n",
    "    DS = DS.isel(time=index)\n",
    "    return DS\n",
    "\n",
    "def get_ds_DJF(ds):\n",
    "    # the dataset below is quarterly seasonal averages by year, labeled by start month\n",
    "    DS_quarterly = ds.resample(time='QS-DEC').mean(dim=\"time\")\n",
    "    \n",
    "    # selecting 12 is actually selecting the 3month average for DJF\n",
    "    # note that here, the data is labelled by the year in which December happens, not January.\n",
    "    DS_DJF = DS_quarterly.sel(time=DS_quarterly.time.dt.month==12) \n",
    "    \n",
    "    # now label by year (at this point, still based on december labelling)\n",
    "    DS_DJF = DS_DJF.groupby(DS_DJF.time.dt.year).mean(dim='time')\n",
    "    \n",
    "    # switch to january labelling\n",
    "    DS_DJF = DS_DJF.assign_coords(year=(DS_DJF.year + 1))\n",
    "    \n",
    "    # drop the incomplete years 1850 (just jan-feb) and 2100 (just dec)\n",
    "    DS_DJF = DS_DJF.sel(year=DS_DJF.year>1850)\n",
    "    DS_DJF = DS_DJF.sel(year=DS_DJF.year<2101)\n",
    "    return DS_DJF\n",
    "    \n",
    "\n",
    "\n",
    "\n",
    "def flatten_to_timeseries(ds):\n",
    "    \"\"\" take input spatial ds for ta_850 and tas, and replace \n",
    "    with output ds made up of a set of time-series data,\n",
    "    each of which is some spatial mean over a domain \"\"\"\n",
    "\n",
    "    global_mean_tas = calc_spatial_mean(ds.tas, \n",
    "                                        lon_name=\"x\", lat_name=\"y\").rename(\n",
    "                                        'Global_tas')\n",
    "\n",
    "    arctic_mean_tas = calc_spatial_mean(ds.sel(y=slice(arctic_bnd, 91)).tas,\n",
    "                                        lon_name=\"x\", lat_name=\"y\").rename(\n",
    "                                        'Arctic_{}_tas'.format(str(arctic_bnd)))\n",
    "    \n",
    "    LLS_high_arctic_mean = calc_spatial_mean(ds.sel(y=slice(high_arctic_bnd, 91)).LLS,\n",
    "                                        lon_name=\"x\", lat_name=\"y\").rename(\n",
    "                                        'LLS_{}'.format(str(high_arctic_bnd)))\n",
    "    \n",
    "    tropics_mean_tas = calc_spatial_mean(ds.sel(y=slice(tropics_bnds[0], tropics_bnds[1])).tas,\n",
    "                                        lon_name=\"x\", lat_name=\"y\").rename(\n",
    "                                        'Tropics_{a}_{b}_tas'.format(\n",
    "                                            a=str(tropics_bnds[0]),\n",
    "                                            b=str(tropics_bnds[1])))\n",
    "    out_ds = xr.merge([global_mean_tas, \n",
    "                       arctic_mean_tas,\n",
    "                       LLS_high_arctic_mean,\n",
    "                       tropics_mean_tas\n",
    "                      ])\n",
    "    return out_ds\n",
    "    \n",
    "def main(model):\n",
    "    ds = get_ds_mod(mod=model)\n",
    "    ds_DJF = get_ds_DJF(ds)\n",
    "    ds_DJF['LLS'] = ds_DJF['ta_850'] - ds_DJF['tas']\n",
    "    ds_DJF_ts = flatten_to_timeseries(ds_DJF)\n",
    "    ds_DJF_ts['Model'] = model\n",
    "    return ds_DJF_ts\n",
    "    \n",
    "## this runs for a while, maybe an hour or two - might be worth\n",
    "## running on sci server instead..\n",
    "\n",
    "#ds_list = []\n",
    "\n",
    "for model in tqdm(mods_to_run):\n",
    "    out_name = '{}.nc'.format(model)\n",
    "    if not out_name in os.listdir('int_ncs/'):\n",
    "        print('running: '+out_name)\n",
    "        ds_DJF_ts = main(model)\n",
    "        ds_DJF_ts.to_netcdf('int_ncs/{}.nc'.format(model))\n",
    "    else:\n",
    "        print('skipping: '+out_name)\n",
    "    #ds_list.append(ds_DJF_ts)\n",
    "    #DS_out = xr.concat(ds_list, dim='Model')\n",
    "    #DS_out.to_netcdf('All_mods_ts.nc')\n",
    "\n"
   ]
  },
  {
   "cell_type": "code",
   "execution_count": null,
   "id": "b65efef3-6462-4ce9-b0e9-50733a565cd5",
   "metadata": {},
   "outputs": [],
   "source": []
  },
  {
   "cell_type": "code",
   "execution_count": null,
   "id": "e4553826-f166-4e9e-9a6a-fd29e09630ad",
   "metadata": {},
   "outputs": [],
   "source": []
  }
 ],
 "metadata": {
  "kernelspec": {
   "display_name": "main",
   "language": "python",
   "name": "main"
  },
  "language_info": {
   "codemirror_mode": {
    "name": "ipython",
    "version": 3
   },
   "file_extension": ".py",
   "mimetype": "text/x-python",
   "name": "python",
   "nbconvert_exporter": "python",
   "pygments_lexer": "ipython3",
   "version": "3.10.5"
  }
 },
 "nbformat": 4,
 "nbformat_minor": 5
}

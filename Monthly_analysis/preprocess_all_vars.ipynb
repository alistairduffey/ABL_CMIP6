{
 "cells": [
  {
   "cell_type": "code",
   "execution_count": 15,
   "id": "26fee13a-be6f-4dff-929d-08cbd0b40c52",
   "metadata": {},
   "outputs": [],
   "source": [
    "import matplotlib.pyplot as plt\n",
    "import numpy as np\n",
    "import xarray as xr\n",
    "import os\n",
    "import glob\n",
    "import matplotlib.pyplot as plt\n",
    "import cartopy.crs as ccrs\n",
    "import cartopy.feature as cfeature\n",
    "import pandas as pd\n",
    "import json\n",
    "import cftime\n",
    "from itertools import product\n",
    "from cftime import DatetimeNoLeap\n",
    "import esmvalcore.preprocessor\n",
    "import xesmf as xe\n",
    "from xmip.preprocessing import promote_empty_dims, broadcast_lonlat, replace_x_y_nominal_lat_lon, rename_cmip6\n",
    "from tqdm import tqdm\n",
    "import dask\n",
    "\n",
    "\n",
    "def read_in(dir, t_bnds, months, ocean = False, plev=False):\n",
    "    files = []\n",
    "    for x in os.listdir(dir):\n",
    "        files.append(dir + x)\n",
    "    with dask.config.set(**{'array.slicing.split_large_chunks': True}):\n",
    "        if ocean:\n",
    "            ds = replace_x_y_nominal_lat_lon(rename_cmip6(xr.open_mfdataset(files)))\n",
    "        else: \n",
    "            ds = rename_cmip6(xr.open_mfdataset(files))\n",
    "    ds = ds.sel(time=slice(t_bnds[0], t_bnds[1]))\n",
    "    ds = ds.where((ds['time.month'].isin(months)), drop=True)\n",
    "    ds = ds.sel(y=slice(65,90))\n",
    "    if plev:\n",
    "        ds = ds.sel(plev=85000)\n",
    "\n",
    "    return ds\n",
    "\n",
    "\n",
    "def sea_ice_mask(in_ds, model, ensemble_member, t_bnds, months, conc_cutoff=95,\n",
    "                 min_conc_cutoff=15,\n",
    "                 siconc_dir='/gws/nopw/j04/cpom/aduffey/siconc_regrids/out_siconca/',\n",
    "                 reverse=False):\n",
    "       \n",
    "    with dask.config.set(**{'array.slicing.split_large_chunks': True}):\n",
    "        sea_ice = rename_cmip6(xr.open_mfdataset(siconc_dir+'*{m}*{e}*.nc'.format(\n",
    "                                            m=model, e=ensemble_member)))\n",
    "\n",
    "    sea_ice = sea_ice.sel(time=slice(t_bnds[0], t_bnds[1]))\n",
    "    sea_ice = sea_ice.where((sea_ice['time.month'].isin(months)), drop=True)\n",
    "    sea_ice = sea_ice.sel(y=slice(65,90))\n",
    "\n",
    "    sea_ice.load()\n",
    "    in_ds.load()\n",
    "    \n",
    "    regridder = xe.Regridder(sea_ice, in_ds, 'bilinear', periodic=True)\n",
    "    sea_ice = regridder(sea_ice)\n",
    "    \n",
    "    if reverse:\n",
    "        try:\n",
    "            SI_mask = xr.where(sea_ice['siconc'] < min_conc_cutoff, True, False)\n",
    "        except:\n",
    "            SI_mask = xr.where(sea_ice['siconca'] < min_conc_cutoff, True, False)\n",
    "    else:\n",
    "        try:\n",
    "            SI_mask = xr.where(sea_ice['siconc'] > conc_cutoff, True, False)\n",
    "        except:\n",
    "            SI_mask = xr.where(sea_ice['siconca'] > conc_cutoff, True, False)\n",
    "    # resample up to needed time resolution\n",
    "    SI_mask = SI_mask.reindex(time=in_ds['time'], method='ffill')\n",
    "\n",
    "    masked_ds = in_ds.where(SI_mask)\n",
    "\n",
    "    #    print('no siconc data in {}'.format(siconc_dir))\n",
    "        \n",
    "    return masked_ds\n",
    "\n",
    "\n",
    "def process_inversions(dir_ta, dir_tas, region, mod, ens):\n",
    "    ## region must be 'sea_ice', 'open_ocean' or 'land'\n",
    "    \n",
    "    ds_ta = read_in(dir_ta, t_bnds=inversion_time_period, months=winter_months,\n",
    "                    plev=True)\n",
    "    \n",
    "    ds_tas = read_in(dir_tas, t_bnds=inversion_time_period, months=winter_months)\n",
    "    \n",
    "    ds_tas['inv_strength'] = ds_ta['ta'] -  ds_tas['tas']\n",
    "\n",
    "    if region == 'sea_ice':\n",
    "        ds_tas = sea_ice_mask(ds_tas, mod, ens, \n",
    "                         t_bnds=inversion_time_period, \n",
    "                         months=winter_months)\n",
    "    elif region == 'open_ocean':\n",
    "        ds_tas = sea_ice_mask(ds_tas, mod, ens, \n",
    "                         t_bnds=inversion_time_period, \n",
    "                         months=winter_months, reverse=True)\n",
    "    elif region == 'land':\n",
    "        print('need to implement land masking')\n",
    "        breakhere\n",
    "    \n",
    "    \n",
    "    #ds_tas['inv_strength'].isel(time=0).plot()\n",
    "    \n",
    "    ds_stacked = ds_tas['inv_strength'].stack(z=('x', 'y','time'))\n",
    "    np.savetxt(\"{r}_monthly_inversions/{m}_{e}.csv\".format(r=region, m=mod, e=ens), \n",
    "               ds_stacked.values, delimiter=\",\")\n",
    "    print(region +' done')\n",
    "\n",
    "\n",
    "def process_cloud_ice_fraction(dirs, region, mod, ens):\n",
    "    ## region must be 'sea_ice', 'open_ocean' or 'land'\n",
    "    ## dirs is a dict of directories, labelled by variable\n",
    "    \n",
    "    ds_ta = read_in(dirs['ta'], t_bnds=inversion_time_period, months=winter_months,\n",
    "                    plev=True)\n",
    "    \n",
    "    ds_tas = read_in(dirs['tas'], t_bnds=inversion_time_period, months=winter_months)\n",
    "\n",
    "    ds_clivi = read_in(dirs['clivi'], t_bnds=inversion_time_period, months=winter_months)\n",
    "\n",
    "    ds_clwvi = read_in(dirs['clwvi'], t_bnds=inversion_time_period, months=winter_months)\n",
    "\n",
    "    #print(ds_tas)\n",
    "    ds_tas['inv_strength'] = ds_ta['ta'] -  ds_tas['tas']\n",
    "    ds_tas['ice_fraction'] = ds_clivi['clivi']/ds_clwvi['clwvi']\n",
    "\n",
    "    if region == 'sea_ice':\n",
    "        ds_tas = sea_ice_mask(ds_tas, mod, ens, \n",
    "                         t_bnds=inversion_time_period, \n",
    "                         months=winter_months)\n",
    "    elif region == 'open_ocean':\n",
    "        ds_tas = sea_ice_mask(ds_tas, mod, ens, \n",
    "                         t_bnds=inversion_time_period, \n",
    "                         months=winter_months, reverse=True)\n",
    "    elif region == 'land':\n",
    "        print('need to implement land masking')\n",
    "        breakhere\n",
    "    \n",
    "    #print(ds_tas)\n",
    "    #ds_tas['inv_strength'].isel(time=0).plot()\n",
    "\n",
    "    ds_stacked = ds_tas.stack(z=('x', 'y','time'))['ice_fraction']\n",
    "    np.savetxt(\"{r}_monthly_cloud_ice_fractions/{m}_{e}.csv\".format(r=region, m=mod, e=ens), \n",
    "               ds_stacked.values, delimiter=\",\")\n",
    "    print(region +' done')\n",
    "\n",
    "\n",
    "def process_cloud(dirs, region, mod, ens):\n",
    "    ## region must be 'sea_ice', 'open_ocean' or 'land'\n",
    "    ## dirs is a dict of directories, labelled by variable\n",
    "    \n",
    "    ds_clwvi = read_in(dirs['clwvi'], t_bnds=inversion_time_period, months=winter_months)\n",
    "\n",
    "    #print(ds_tas)\n",
    "    \n",
    "\n",
    "    if region == 'sea_ice':\n",
    "        ds_clwvi = sea_ice_mask(ds_clwvi, mod, ens, \n",
    "                         t_bnds=inversion_time_period, \n",
    "                         months=winter_months)\n",
    "    elif region == 'open_ocean':\n",
    "        ds_clwvi = sea_ice_mask(ds_clwvi, mod, ens, \n",
    "                         t_bnds=inversion_time_period, \n",
    "                         months=winter_months, reverse=True)\n",
    "    elif region == 'land':\n",
    "        print('need to implement land masking')\n",
    "        breakhere\n",
    "    \n",
    "    #print(ds_tas)\n",
    "    #ds_tas['inv_strength'].isel(time=0).plot()\n",
    "\n",
    "    ds_stacked = ds_clwvi.stack(z=('x', 'y','time'))['clwvi']\n",
    "    np.savetxt(\"{r}_monthly_cloud_clwvi/{m}_{e}.csv\".format(r=region, m=mod, e=ens), \n",
    "               ds_stacked.values, delimiter=\",\")\n",
    "    print(region +' done')\n",
    "\n",
    "    \n",
    "def process_hfss(dirs, region, mod, ens):\n",
    "    ## region must be 'sea_ice', 'open_ocean' or 'land'\n",
    "    ## dirs is a dict of directories, labelled by variable\n",
    "\n",
    "    ds_hfss = read_in(dirs['hfss'], t_bnds=inversion_time_period, months=winter_months)\n",
    "\n",
    "\n",
    "    #print(ds_tas)\n",
    "    \n",
    "    if region == 'sea_ice':\n",
    "        ds_hfss = sea_ice_mask(ds_hfss, mod, ens, \n",
    "                         t_bnds=inversion_time_period, \n",
    "                         months=winter_months)\n",
    "    elif region == 'open_ocean':\n",
    "        ds_hfss = sea_ice_mask(ds_hfss, mod, ens, \n",
    "                         t_bnds=inversion_time_period, \n",
    "                         months=winter_months, reverse=True)\n",
    "    elif region == 'land':\n",
    "        print('need to implement land masking')\n",
    "        breakhere\n",
    "    \n",
    "    #print(ds_tas)\n",
    "    #ds_tas['inv_strength'].isel(time=0).plot()\n",
    "\n",
    "    ds_stacked = ds_hfss.stack(z=('x', 'y','time'))['hfss']\n",
    "    np.savetxt(\"{r}_monthly_hfss/{m}_{e}.csv\".format(r=region, m=mod, e=ens), \n",
    "               ds_stacked.values, delimiter=\",\")\n",
    "    print(region +' done')\n",
    "\n",
    "\n",
    "def process_hfss_div_sfcWind(dirs, region, mod, ens):\n",
    "    ## region must be 'sea_ice', 'open_ocean' or 'land'\n",
    "    ## dirs is a dict of directories, labelled by variable\n",
    "\n",
    "    ds_hfss = read_in(dirs['hfss'], t_bnds=inversion_time_period, months=winter_months)\n",
    "    ds_sfcWind = read_in(dirs['sfcWind'], t_bnds=inversion_time_period, months=winter_months)\n",
    "\n",
    "\n",
    "    ds_hfss['windscaled_hfss'] = ds_hfss['hfss']/ds_sfcWind['sfcWind']\n",
    "\n",
    "    #print(ds_tas)\n",
    "    \n",
    "    if region == 'sea_ice':\n",
    "        ds_hfss = sea_ice_mask(ds_hfss, mod, ens, \n",
    "                         t_bnds=inversion_time_period, \n",
    "                         months=winter_months)\n",
    "    elif region == 'open_ocean':\n",
    "        ds_hfss = sea_ice_mask(ds_hfss, mod, ens, \n",
    "                         t_bnds=inversion_time_period, \n",
    "                         months=winter_months, reverse=True)\n",
    "    elif region == 'land':\n",
    "        print('need to implement land masking')\n",
    "        breakhere\n",
    "    \n",
    "    #print(ds_tas)\n",
    "    #ds_tas['inv_strength'].isel(time=0).plot()\n",
    "\n",
    "    ds_stacked = ds_hfss.stack(z=('x', 'y','time'))['windscaled_hfss']\n",
    "    np.savetxt(\"{r}_monthly_hfss_div_sfcWind/{m}_{e}.csv\".format(r=region, m=mod, e=ens), \n",
    "               ds_stacked.values, delimiter=\",\")\n",
    "    print(region +' done')\n",
    "\n",
    "    \n",
    "\n",
    "inversion_time_period = ['1995', '2015']\n",
    "winter_months = [11, 12, 1, 2, 3]"
   ]
  },
  {
   "cell_type": "code",
   "execution_count": 7,
   "id": "50860757-75ab-442b-9b39-07e1f82ea31a",
   "metadata": {},
   "outputs": [
    {
     "data": {
      "text/plain": [
       "{'ta': '/badc/cmip6/data/CMIP6/CMIP/NASA-GISS/GISS-E2-1-H/historical/r1i1p1f2/Amon/ta/gn/latest/',\n",
       " 'tas': '/badc/cmip6/data/CMIP6/CMIP/NASA-GISS/GISS-E2-1-H/historical/r1i1p1f2/Amon/tas/gn/latest/',\n",
       " 'clivi': '/badc/cmip6/data/CMIP6/CMIP/NASA-GISS/GISS-E2-1-H/historical/r1i1p1f2/Amon/clivi/gn/latest/',\n",
       " 'clwvi': '/badc/cmip6/data/CMIP6/CMIP/NASA-GISS/GISS-E2-1-H/historical/r1i1p1f2/Amon/clwvi/gn/latest/'}"
      ]
     },
     "execution_count": 7,
     "metadata": {},
     "output_type": "execute_result"
    }
   ],
   "source": [
    "### test new func:\n",
    "mod=model='GISS-E2-1-H'\n",
    "ens=ensemble_member='r1i1p1f2'\n",
    "paths = ['/badc/cmip6/data/CMIP6/CMIP/NASA-GISS/GISS-E2-1-H/historical/r1i1p1f2/Amon/ta/gn/latest/',\n",
    "        '/badc/cmip6/data/CMIP6/CMIP/NASA-GISS/GISS-E2-1-H/historical/r1i1p1f2/Amon/tas/gn/latest/',\n",
    "        '/badc/cmip6/data/CMIP6/CMIP/NASA-GISS/GISS-E2-1-H/historical/r1i1p1f2/Amon/clivi/gn/latest/',\n",
    "        '/badc/cmip6/data/CMIP6/CMIP/NASA-GISS/GISS-E2-1-H/historical/r1i1p1f2/Amon/clwvi/gn/latest/']\n",
    "\n",
    "labels = ['ta', 'tas', 'clivi', 'clwvi']\n",
    "dirs = dict(zip(labels, paths))\n",
    "dirs\n",
    "\n",
    "#process_cloud_ice_fraction(dirs=dirs, region='sea_ice', mod=mod, ens=ens)\n",
    "\n",
    "mod=model='GISS-E2-1-H'\n",
    "ens=ensemble_member='r1i1p1f2'\n",
    "paths = ['/badc/cmip6/data/CMIP6/CMIP/NASA-GISS/GISS-E2-1-H/historical/r1i1p1f2/Amon/hfss/gn/latest/']\n",
    "labels = ['hfss']\n",
    "dirs = dict(zip(labels, paths))\n",
    "dirs"
   ]
  },
  {
   "cell_type": "code",
   "execution_count": 18,
   "id": "37979bc0-684f-4925-9e49-94cc2d9d5a36",
   "metadata": {},
   "outputs": [
    {
     "data": {
      "text/plain": [
       "['sfcWind_Amon_GISS-E2-1-G_historical_r1i1p1f1_gn_185001-190012.nc',\n",
       " 'sfcWind_Amon_GISS-E2-1-G_historical_r1i1p1f1_gn_190101-195012.nc',\n",
       " 'sfcWind_Amon_GISS-E2-1-G_historical_r1i1p1f1_gn_195101-200012.nc',\n",
       " 'sfcWind_Amon_GISS-E2-1-G_historical_r1i1p1f1_gn_200101-201412.nc']"
      ]
     },
     "execution_count": 18,
     "metadata": {},
     "output_type": "execute_result"
    }
   ],
   "source": [
    "os.listdir('/badc/cmip6/data/CMIP6/CMIP/NASA-GISS/GISS-E2-1-G/historical/r1i1p1f1/Amon/sfcWind/gn/latest/')"
   ]
  },
  {
   "cell_type": "code",
   "execution_count": 19,
   "id": "ac7af099-bb60-454b-bdc9-3a1871f64b2a",
   "metadata": {},
   "outputs": [
    {
     "name": "stdout",
     "output_type": "stream",
     "text": [
      "sea_ice done\n",
      "sea_ice done\n",
      "sea_ice done\n",
      "sea_ice done\n"
     ]
    }
   ],
   "source": [
    "### run for GISS:\n",
    "\n",
    "mod=model='GISS-E2-1-G'\n",
    "ens=ensemble_member='r1i1p1f1'\n",
    "\n",
    "paths = ['/badc/cmip6/data/CMIP6/CMIP/NASA-GISS/GISS-E2-1-G/historical/r1i1p1f1/Amon/ta/gn/latest/',\n",
    "        '/badc/cmip6/data/CMIP6/CMIP/NASA-GISS/GISS-E2-1-G/historical/r1i1p1f1/Amon/tas/gn/latest/',\n",
    "        '/badc/cmip6/data/CMIP6/CMIP/NASA-GISS/GISS-E2-1-G/historical/r1i1p1f1/Amon/clivi/gn/latest/',\n",
    "        '/badc/cmip6/data/CMIP6/CMIP/NASA-GISS/GISS-E2-1-G/historical/r1i1p1f1/Amon/clwvi/gn/latest/',\n",
    "        '/badc/cmip6/data/CMIP6/CMIP/NASA-GISS/GISS-E2-1-G/historical/r1i1p1f1/Amon/hfss/gn/latest/',\n",
    "        '/badc/cmip6/data/CMIP6/CMIP/NASA-GISS/GISS-E2-1-G/historical/r1i1p1f1/Amon/sfcWind/gn/latest/']\n",
    "\n",
    "labels = ['ta', 'tas', 'clivi', 'clwvi', 'hfss', 'sfcWind']\n",
    "\n",
    "dirs = dict(zip(labels, paths))\n",
    "dirs\n",
    "\n",
    "#process_cloud(dirs=dirs, region='sea_ice', mod=mod, ens=ens)\n",
    "#process_inversions(dir_ta=dirs['ta'], dir_tas=dirs['tas'], region='sea_ice', mod=mod, ens=ens)\n",
    "process_cloud_ice_fraction(dirs, region='sea_ice', mod=mod, ens=ens)\n",
    "#process_hfss(dirs, region='sea_ice', mod=mod, ens=ens)\n",
    "#process_hfss_div_sfcWind(dirs, region='sea_ice', mod=mod, ens=ens)"
   ]
  },
  {
   "cell_type": "code",
   "execution_count": 7,
   "id": "000975b0-6f7f-4cc6-9a84-83052ddc5b5c",
   "metadata": {},
   "outputs": [],
   "source": [
    "### make a list of models:\n",
    "dirs=[]\n",
    "for x in glob.glob('/badc/cmip6/data/CMIP6/CMIP/*/*/historical/*/Amon/sfcWind/*/latest/'): \n",
    "    dirs.append(x)\n",
    "\n",
    "models = []\n",
    "for x in dirs:\n",
    "    model = x.split('/')[7]\n",
    "    if model not in models:\n",
    "        models.append(model)\n",
    "#models"
   ]
  },
  {
   "cell_type": "code",
   "execution_count": null,
   "id": "bb43b26e-4d86-4bbf-b3a5-f6e59eab0f95",
   "metadata": {},
   "outputs": [],
   "source": []
  },
  {
   "cell_type": "code",
   "execution_count": 3,
   "id": "97662c68-3a43-445f-947f-e4060b7d6a9a",
   "metadata": {},
   "outputs": [
    {
     "name": "stderr",
     "output_type": "stream",
     "text": [
      "  0%|          | 0/51 [00:00<?, ?it/s]"
     ]
    },
    {
     "name": "stdout",
     "output_type": "stream",
     "text": [
      "TaiESM1\n",
      "r1i1p1f1\n"
     ]
    },
    {
     "name": "stderr",
     "output_type": "stream",
     "text": [
      "  2%|▏         | 1/51 [00:07<06:08,  7.37s/it]"
     ]
    },
    {
     "name": "stdout",
     "output_type": "stream",
     "text": [
      "sea_ice done\n",
      "AWI-CM-1-1-MR\n",
      "r1i1p1f1\n"
     ]
    },
    {
     "name": "stderr",
     "output_type": "stream",
     "text": [
      "  4%|▍         | 2/51 [00:35<16:07, 19.74s/it]"
     ]
    },
    {
     "name": "stdout",
     "output_type": "stream",
     "text": [
      "failed\n",
      "AWI-ESM-1-1-LR\n",
      "r1i1p1f1\n"
     ]
    },
    {
     "name": "stderr",
     "output_type": "stream",
     "text": [
      "  6%|▌         | 3/51 [01:01<17:49, 22.27s/it]"
     ]
    },
    {
     "name": "stdout",
     "output_type": "stream",
     "text": [
      "failed\n",
      "BCC-CSM2-MR\n",
      "r1i1p1f1\n"
     ]
    },
    {
     "name": "stderr",
     "output_type": "stream",
     "text": [
      "  8%|▊         | 4/51 [01:10<13:27, 17.19s/it]"
     ]
    },
    {
     "name": "stdout",
     "output_type": "stream",
     "text": [
      "sea_ice done\n",
      "BCC-ESM1\n",
      "r1i1p1f1\n"
     ]
    },
    {
     "name": "stderr",
     "output_type": "stream",
     "text": [
      " 10%|▉         | 5/51 [01:16<10:03, 13.12s/it]"
     ]
    },
    {
     "name": "stdout",
     "output_type": "stream",
     "text": [
      "sea_ice done\n",
      "CAMS-CSM1-0\n",
      "r1i1p1f1\n"
     ]
    },
    {
     "name": "stderr",
     "output_type": "stream",
     "text": [
      " 12%|█▏        | 6/51 [01:25<08:56, 11.92s/it]"
     ]
    },
    {
     "name": "stdout",
     "output_type": "stream",
     "text": [
      "sea_ice done\n",
      "FGOALS-f3-L\n",
      "r1i1p1f1\n"
     ]
    },
    {
     "name": "stderr",
     "output_type": "stream",
     "text": [
      " 14%|█▎        | 7/51 [01:28<06:33,  8.95s/it]"
     ]
    },
    {
     "name": "stdout",
     "output_type": "stream",
     "text": [
      "failed\n",
      "FGOALS-g3\n",
      "r1i1p1f1\n"
     ]
    },
    {
     "name": "stderr",
     "output_type": "stream",
     "text": [
      " 16%|█▌        | 8/51 [01:39<06:45,  9.44s/it]"
     ]
    },
    {
     "name": "stdout",
     "output_type": "stream",
     "text": [
      "sea_ice done\n",
      "IITM-ESM\n",
      "r1i1p1f1\n"
     ]
    },
    {
     "name": "stderr",
     "output_type": "stream",
     "text": [
      " 18%|█▊        | 9/51 [01:43<05:28,  7.83s/it]"
     ]
    },
    {
     "name": "stdout",
     "output_type": "stream",
     "text": [
      "failed\n",
      "CanESM5\n",
      "r1i1p1f1\n"
     ]
    },
    {
     "name": "stderr",
     "output_type": "stream",
     "text": [
      " 20%|█▉        | 10/51 [01:46<04:19,  6.33s/it]"
     ]
    },
    {
     "name": "stdout",
     "output_type": "stream",
     "text": [
      "sea_ice done\n",
      "CanESM5-CanOE\n",
      "r1i1p2f1\n"
     ]
    },
    {
     "name": "stderr",
     "output_type": "stream",
     "text": [
      " 22%|██▏       | 11/51 [01:49<03:28,  5.22s/it]"
     ]
    },
    {
     "name": "stdout",
     "output_type": "stream",
     "text": [
      "sea_ice done\n",
      "CMCC-CM2-HR4\n",
      "r1i1p1f1\n"
     ]
    },
    {
     "name": "stderr",
     "output_type": "stream",
     "text": [
      " 24%|██▎       | 12/51 [01:56<03:49,  5.87s/it]"
     ]
    },
    {
     "name": "stdout",
     "output_type": "stream",
     "text": [
      "sea_ice done\n",
      "CMCC-CM2-SR5\n",
      "r1i1p1f1\n"
     ]
    },
    {
     "name": "stderr",
     "output_type": "stream",
     "text": [
      " 25%|██▌       | 13/51 [02:02<03:41,  5.84s/it]"
     ]
    },
    {
     "name": "stdout",
     "output_type": "stream",
     "text": [
      "sea_ice done\n",
      "CMCC-ESM2\n",
      "r1i1p1f1\n"
     ]
    },
    {
     "name": "stderr",
     "output_type": "stream",
     "text": [
      " 27%|██▋       | 14/51 [02:07<03:32,  5.75s/it]"
     ]
    },
    {
     "name": "stdout",
     "output_type": "stream",
     "text": [
      "sea_ice done\n",
      "CNRM-CM6-1\n",
      "r1i1p1f2\n"
     ]
    },
    {
     "name": "stderr",
     "output_type": "stream",
     "text": [
      " 29%|██▉       | 15/51 [02:12<03:14,  5.42s/it]"
     ]
    },
    {
     "name": "stdout",
     "output_type": "stream",
     "text": [
      "sea_ice done\n",
      "CNRM-ESM2-1\n",
      "r1i1p1f2\n"
     ]
    },
    {
     "name": "stderr",
     "output_type": "stream",
     "text": [
      " 31%|███▏      | 16/51 [02:16<02:58,  5.11s/it]"
     ]
    },
    {
     "name": "stdout",
     "output_type": "stream",
     "text": [
      "sea_ice done\n",
      "E3SM-1-0\n",
      "r1i1p1f1\n"
     ]
    },
    {
     "name": "stderr",
     "output_type": "stream",
     "text": [
      " 33%|███▎      | 17/51 [02:37<05:30,  9.73s/it]"
     ]
    },
    {
     "name": "stdout",
     "output_type": "stream",
     "text": [
      "sea_ice done\n",
      "E3SM-1-1\n",
      "r1i1p1f1\n"
     ]
    },
    {
     "name": "stderr",
     "output_type": "stream",
     "text": [
      " 35%|███▌      | 18/51 [03:13<09:44, 17.72s/it]"
     ]
    },
    {
     "name": "stdout",
     "output_type": "stream",
     "text": [
      "sea_ice done\n",
      "E3SM-1-1-ECA\n",
      "r1i1p1f1\n"
     ]
    },
    {
     "name": "stderr",
     "output_type": "stream",
     "text": [
      " 37%|███▋      | 19/51 [03:29<09:09, 17.18s/it]"
     ]
    },
    {
     "name": "stdout",
     "output_type": "stream",
     "text": [
      "sea_ice done\n",
      "EC-Earth3\n",
      "r1i1p1f1\n"
     ]
    },
    {
     "name": "stderr",
     "output_type": "stream",
     "text": [
      " 39%|███▉      | 20/51 [05:30<24:53, 48.19s/it]"
     ]
    },
    {
     "name": "stdout",
     "output_type": "stream",
     "text": [
      "sea_ice done\n",
      "EC-Earth3-AerChem\n",
      "r1i1p1f1\n"
     ]
    },
    {
     "name": "stderr",
     "output_type": "stream",
     "text": [
      " 41%|████      | 21/51 [06:15<23:43, 47.45s/it]"
     ]
    },
    {
     "name": "stdout",
     "output_type": "stream",
     "text": [
      "sea_ice done\n",
      "EC-Earth3-CC\n",
      "r1i1p1f1\n"
     ]
    },
    {
     "name": "stderr",
     "output_type": "stream",
     "text": [
      " 43%|████▎     | 22/51 [07:00<22:34, 46.70s/it]"
     ]
    },
    {
     "name": "stdout",
     "output_type": "stream",
     "text": [
      "sea_ice done\n",
      "EC-Earth3-Veg-LR\n",
      "r1i1p1f1\n"
     ]
    },
    {
     "name": "stderr",
     "output_type": "stream",
     "text": [
      " 45%|████▌     | 23/51 [07:36<20:11, 43.26s/it]"
     ]
    },
    {
     "name": "stdout",
     "output_type": "stream",
     "text": [
      "sea_ice done\n",
      "FIO-ESM-2-0\n",
      "r1i1p1f1\n"
     ]
    },
    {
     "name": "stderr",
     "output_type": "stream",
     "text": [
      " 47%|████▋     | 24/51 [07:41<14:24, 32.02s/it]"
     ]
    },
    {
     "name": "stdout",
     "output_type": "stream",
     "text": [
      "sea_ice done\n",
      "MPI-ESM-1-2-HAM\n",
      "r1i1p1f1\n"
     ]
    },
    {
     "name": "stderr",
     "output_type": "stream",
     "text": [
      " 49%|████▉     | 25/51 [07:50<10:53, 25.14s/it]"
     ]
    },
    {
     "name": "stdout",
     "output_type": "stream",
     "text": [
      "sea_ice done\n",
      "INM-CM4-8\n",
      "r1i1p1f1\n"
     ]
    },
    {
     "name": "stderr",
     "output_type": "stream",
     "text": [
      " 51%|█████     | 26/51 [07:57<08:09, 19.57s/it]"
     ]
    },
    {
     "name": "stdout",
     "output_type": "stream",
     "text": [
      "sea_ice done\n",
      "INM-CM5-0\n",
      "r1i1p1f1\n"
     ]
    },
    {
     "name": "stderr",
     "output_type": "stream",
     "text": [
      " 53%|█████▎    | 27/51 [08:02<06:07, 15.31s/it]"
     ]
    },
    {
     "name": "stdout",
     "output_type": "stream",
     "text": [
      "sea_ice done\n",
      "IPSL-CM6A-LR\n",
      "r1i1p1f1\n"
     ]
    },
    {
     "name": "stderr",
     "output_type": "stream",
     "text": [
      "/home/users/a_duffey/.conda/envs/main/lib/python3.10/site-packages/xesmf/smm.py:130: UserWarning: Input array is not C_CONTIGUOUS. Will affect performance.\n",
      "  warnings.warn('Input array is not C_CONTIGUOUS. ' 'Will affect performance.')\n",
      " 55%|█████▍    | 28/51 [08:07<04:38, 12.10s/it]"
     ]
    },
    {
     "name": "stdout",
     "output_type": "stream",
     "text": [
      "sea_ice done\n",
      "KIOST-ESM\n",
      "r1i1p1f1\n"
     ]
    },
    {
     "name": "stderr",
     "output_type": "stream",
     "text": [
      " 57%|█████▋    | 29/51 [08:13<03:48, 10.40s/it]"
     ]
    },
    {
     "name": "stdout",
     "output_type": "stream",
     "text": [
      "sea_ice done\n",
      "MIROC-ES2L\n",
      "r1i1p1f2\n"
     ]
    },
    {
     "name": "stderr",
     "output_type": "stream",
     "text": [
      " 59%|█████▉    | 30/51 [08:16<02:46,  7.95s/it]"
     ]
    },
    {
     "name": "stdout",
     "output_type": "stream",
     "text": [
      "failed\n",
      "MIROC6\n",
      "r1i1p1f1\n"
     ]
    },
    {
     "name": "stderr",
     "output_type": "stream",
     "text": [
      " 61%|██████    | 31/51 [08:21<02:22,  7.12s/it]"
     ]
    },
    {
     "name": "stdout",
     "output_type": "stream",
     "text": [
      "sea_ice done\n",
      "HadGEM3-GC31-LL\n",
      "r1i1p1f3\n"
     ]
    },
    {
     "name": "stderr",
     "output_type": "stream",
     "text": [
      " 63%|██████▎   | 32/51 [08:26<02:01,  6.39s/it]"
     ]
    },
    {
     "name": "stdout",
     "output_type": "stream",
     "text": [
      "sea_ice done\n",
      "HadGEM3-GC31-MM\n",
      "r1i1p1f3\n"
     ]
    },
    {
     "name": "stderr",
     "output_type": "stream",
     "text": [
      " 65%|██████▍   | 33/51 [08:42<02:50,  9.48s/it]"
     ]
    },
    {
     "name": "stdout",
     "output_type": "stream",
     "text": [
      "sea_ice done\n",
      "UKESM1-0-LL\n",
      "r1i1p1f2\n"
     ]
    },
    {
     "name": "stderr",
     "output_type": "stream",
     "text": [
      " 67%|██████▋   | 34/51 [08:47<02:18,  8.15s/it]"
     ]
    },
    {
     "name": "stdout",
     "output_type": "stream",
     "text": [
      "sea_ice done\n",
      "MPI-ESM1-2-HR\n",
      "r1i1p1f1\n"
     ]
    },
    {
     "name": "stderr",
     "output_type": "stream",
     "text": [
      " 69%|██████▊   | 35/51 [09:11<03:24, 12.81s/it]"
     ]
    },
    {
     "name": "stdout",
     "output_type": "stream",
     "text": [
      "sea_ice done\n",
      "MPI-ESM1-2-LR\n",
      "r1i1p1f1\n"
     ]
    },
    {
     "name": "stderr",
     "output_type": "stream",
     "text": [
      " 71%|███████   | 36/51 [09:21<02:59, 11.99s/it]"
     ]
    },
    {
     "name": "stdout",
     "output_type": "stream",
     "text": [
      "sea_ice done\n",
      "MRI-ESM2-0\n",
      "r1i1p1f1\n"
     ]
    },
    {
     "name": "stderr",
     "output_type": "stream",
     "text": [
      " 73%|███████▎  | 37/51 [09:27<02:21, 10.13s/it]"
     ]
    },
    {
     "name": "stdout",
     "output_type": "stream",
     "text": [
      "sea_ice done\n",
      "GISS-E2-1-G\n",
      "r1i1p1f1\n"
     ]
    },
    {
     "name": "stderr",
     "output_type": "stream",
     "text": [
      " 75%|███████▍  | 38/51 [09:35<02:05,  9.69s/it]"
     ]
    },
    {
     "name": "stdout",
     "output_type": "stream",
     "text": [
      "failed\n",
      "GISS-E2-1-H\n",
      "r1i1p1f1\n"
     ]
    },
    {
     "name": "stderr",
     "output_type": "stream",
     "text": [
      " 76%|███████▋  | 39/51 [09:43<01:48,  9.07s/it]"
     ]
    },
    {
     "name": "stdout",
     "output_type": "stream",
     "text": [
      "failed\n",
      "CESM2\n",
      "r1i1p1f1\n"
     ]
    },
    {
     "name": "stderr",
     "output_type": "stream",
     "text": [
      "/home/users/a_duffey/.conda/envs/main/lib/python3.10/site-packages/xarray/conventions.py:516: SerializationWarning: variable 'clwvi' has multiple fill values {1e+20, 1e+20}, decoding all values to NaN.\n",
      "  new_vars[k] = decode_cf_variable(\n",
      " 78%|███████▊  | 40/51 [09:49<01:29,  8.15s/it]"
     ]
    },
    {
     "name": "stdout",
     "output_type": "stream",
     "text": [
      "failed\n",
      "CESM2-FV2\n",
      "r1i1p1f1\n"
     ]
    },
    {
     "name": "stderr",
     "output_type": "stream",
     "text": [
      "/home/users/a_duffey/.conda/envs/main/lib/python3.10/site-packages/xarray/conventions.py:516: SerializationWarning: variable 'clwvi' has multiple fill values {1e+20, 1e+20}, decoding all values to NaN.\n",
      "  new_vars[k] = decode_cf_variable(\n",
      " 80%|████████  | 41/51 [09:54<01:12,  7.25s/it]"
     ]
    },
    {
     "name": "stdout",
     "output_type": "stream",
     "text": [
      "sea_ice done\n",
      "CESM2-WACCM\n",
      "r1i1p1f1\n"
     ]
    },
    {
     "name": "stderr",
     "output_type": "stream",
     "text": [
      "/home/users/a_duffey/.conda/envs/main/lib/python3.10/site-packages/xarray/conventions.py:516: SerializationWarning: variable 'clwvi' has multiple fill values {1e+20, 1e+20}, decoding all values to NaN.\n",
      "  new_vars[k] = decode_cf_variable(\n",
      " 82%|████████▏ | 42/51 [09:56<00:50,  5.58s/it]"
     ]
    },
    {
     "name": "stdout",
     "output_type": "stream",
     "text": [
      "failed\n",
      "CESM2-WACCM-FV2\n",
      "r1i1p1f1\n"
     ]
    },
    {
     "name": "stderr",
     "output_type": "stream",
     "text": [
      "/home/users/a_duffey/.conda/envs/main/lib/python3.10/site-packages/xarray/conventions.py:516: SerializationWarning: variable 'clwvi' has multiple fill values {1e+20, 1e+20}, decoding all values to NaN.\n",
      "  new_vars[k] = decode_cf_variable(\n",
      " 84%|████████▍ | 43/51 [10:01<00:42,  5.35s/it]"
     ]
    },
    {
     "name": "stdout",
     "output_type": "stream",
     "text": [
      "sea_ice done\n",
      "NorESM2-LM\n",
      "r1i1p1f1\n"
     ]
    },
    {
     "name": "stderr",
     "output_type": "stream",
     "text": [
      " 86%|████████▋ | 44/51 [10:14<00:54,  7.83s/it]"
     ]
    },
    {
     "name": "stdout",
     "output_type": "stream",
     "text": [
      "sea_ice done\n",
      "NorESM2-MM\n",
      "r1i1p1f1\n"
     ]
    },
    {
     "name": "stderr",
     "output_type": "stream",
     "text": [
      " 88%|████████▊ | 45/51 [10:31<01:02, 10.35s/it]"
     ]
    },
    {
     "name": "stdout",
     "output_type": "stream",
     "text": [
      "sea_ice done\n",
      "KACE-1-0-G\n",
      "r1i1p1f1\n"
     ]
    },
    {
     "name": "stderr",
     "output_type": "stream",
     "text": [
      " 90%|█████████ | 46/51 [10:32<00:37,  7.53s/it]"
     ]
    },
    {
     "name": "stdout",
     "output_type": "stream",
     "text": [
      "failed\n",
      "GFDL-CM4\n",
      "r1i1p1f1\n"
     ]
    },
    {
     "name": "stderr",
     "output_type": "stream",
     "text": [
      " 92%|█████████▏| 47/51 [10:38<00:28,  7.21s/it]"
     ]
    },
    {
     "name": "stdout",
     "output_type": "stream",
     "text": [
      "sea_ice done\n",
      "GFDL-ESM4\n",
      "r1i1p1f1\n"
     ]
    },
    {
     "name": "stderr",
     "output_type": "stream",
     "text": [
      " 94%|█████████▍| 48/51 [10:40<00:17,  5.69s/it]"
     ]
    },
    {
     "name": "stdout",
     "output_type": "stream",
     "text": [
      "failed\n",
      "NESM3\n",
      "r1i1p1f1\n"
     ]
    },
    {
     "name": "stderr",
     "output_type": "stream",
     "text": [
      " 96%|█████████▌| 49/51 [10:44<00:10,  5.00s/it]"
     ]
    },
    {
     "name": "stdout",
     "output_type": "stream",
     "text": [
      "sea_ice done\n",
      "SAM0-UNICON\n",
      "r1i1p1f1\n"
     ]
    },
    {
     "name": "stderr",
     "output_type": "stream",
     "text": [
      " 98%|█████████▊| 50/51 [11:01<00:08,  8.68s/it]"
     ]
    },
    {
     "name": "stdout",
     "output_type": "stream",
     "text": [
      "sea_ice done\n",
      "CIESM\n",
      "r1i1p1f1\n"
     ]
    },
    {
     "name": "stderr",
     "output_type": "stream",
     "text": [
      "100%|██████████| 51/51 [11:11<00:00, 13.16s/it]"
     ]
    },
    {
     "name": "stdout",
     "output_type": "stream",
     "text": [
      "sea_ice done\n"
     ]
    },
    {
     "name": "stderr",
     "output_type": "stream",
     "text": [
      "\n"
     ]
    }
   ],
   "source": [
    "### cloud water processing\n",
    "\n",
    "### make a list of models:\n",
    "dirs=[]\n",
    "for x in glob.glob('/badc/cmip6/data/CMIP6/CMIP/*/*/historical/*/Amon/clwvi/*/latest/'): \n",
    "    dirs.append(x)\n",
    "\n",
    "models = []\n",
    "for x in dirs:\n",
    "    model = x.split('/')[7]\n",
    "    if model not in models:\n",
    "        models.append(model)\n",
    "\n",
    "\n",
    "### now run over all models\n",
    "vars = ['clwvi']\n",
    "\n",
    "for model in tqdm(models):\n",
    "    print(model)\n",
    "    ens_mems_long = os.listdir(glob.glob('/badc/cmip6/data/CMIP6/*/*/{m}/historical/'.format(m=model))[0])\n",
    "    ens_mems = sorted([idx for idx in ens_mems_long if idx[0].lower() == 'r'.lower()], key=len)\n",
    "    #DF_multi_ens = pd.DataFrame()\n",
    "    for ens_mem in ens_mems[0:1]:\n",
    "        print(ens_mem)\n",
    "        try:\n",
    "            paths = []\n",
    "            for var in vars:\n",
    "                folder = glob.glob('/badc/cmip6/data/CMIP6/*/*/{m}/historical/{ens}/Amon/{v}/*/latest/'.format(\n",
    "                                        m=model, ens=ens_mem, v=var))[0]\n",
    "                paths.append(folder)\n",
    "            dirs = dict(zip(vars, paths))\n",
    "        \n",
    "            ### select processing function from options below:\n",
    "            process_cloud(dirs=dirs, region='sea_ice', mod=model, ens=ens_mem)\n",
    "            \n",
    "        except: \n",
    "            print('failed')"
   ]
  },
  {
   "cell_type": "code",
   "execution_count": 7,
   "id": "c32d7904-b55b-448c-8a6c-ef80d4723c47",
   "metadata": {
    "tags": []
   },
   "outputs": [
    {
     "name": "stderr",
     "output_type": "stream",
     "text": [
      "  0%|          | 0/52 [00:00<?, ?it/s]"
     ]
    },
    {
     "name": "stdout",
     "output_type": "stream",
     "text": [
      "TaiESM1\n",
      "r1i1p1f1\n"
     ]
    },
    {
     "name": "stderr",
     "output_type": "stream",
     "text": [
      "  2%|▏         | 1/52 [00:27<23:16, 27.39s/it]"
     ]
    },
    {
     "name": "stdout",
     "output_type": "stream",
     "text": [
      "sea_ice done\n",
      "AWI-ESM-1-1-LR\n",
      "r1i1p1f1\n"
     ]
    },
    {
     "name": "stderr",
     "output_type": "stream",
     "text": [
      "  4%|▍         | 2/52 [02:28<1:08:46, 82.54s/it]"
     ]
    },
    {
     "name": "stdout",
     "output_type": "stream",
     "text": [
      "failed\n",
      "BCC-CSM2-MR\n",
      "r1i1p1f1\n"
     ]
    },
    {
     "name": "stderr",
     "output_type": "stream",
     "text": [
      "  6%|▌         | 3/52 [03:13<53:23, 65.38s/it]  "
     ]
    },
    {
     "name": "stdout",
     "output_type": "stream",
     "text": [
      "sea_ice done\n",
      "BCC-ESM1\n",
      "r1i1p1f1\n"
     ]
    },
    {
     "name": "stderr",
     "output_type": "stream",
     "text": [
      "  8%|▊         | 4/52 [03:26<35:39, 44.57s/it]"
     ]
    },
    {
     "name": "stdout",
     "output_type": "stream",
     "text": [
      "sea_ice done\n",
      "CAMS-CSM1-0\n",
      "r1i1p1f1\n"
     ]
    },
    {
     "name": "stderr",
     "output_type": "stream",
     "text": [
      " 10%|▉         | 5/52 [04:14<35:56, 45.88s/it]"
     ]
    },
    {
     "name": "stdout",
     "output_type": "stream",
     "text": [
      "sea_ice done\n",
      "FGOALS-f3-L\n",
      "r1i1p1f1\n"
     ]
    },
    {
     "name": "stderr",
     "output_type": "stream",
     "text": [
      " 12%|█▏        | 6/52 [04:41<30:15, 39.46s/it]"
     ]
    },
    {
     "name": "stdout",
     "output_type": "stream",
     "text": [
      "failed\n",
      "FGOALS-g3\n",
      "r1i1p1f1\n"
     ]
    },
    {
     "name": "stderr",
     "output_type": "stream",
     "text": [
      " 13%|█▎        | 7/52 [05:18<29:00, 38.68s/it]"
     ]
    },
    {
     "name": "stdout",
     "output_type": "stream",
     "text": [
      "sea_ice done\n",
      "IITM-ESM\n",
      "r1i1p1f1\n"
     ]
    },
    {
     "name": "stderr",
     "output_type": "stream",
     "text": [
      " 15%|█▌        | 8/52 [05:40<24:22, 33.23s/it]"
     ]
    },
    {
     "name": "stdout",
     "output_type": "stream",
     "text": [
      "failed\n",
      "CanESM5\n",
      "r1i1p1f1\n"
     ]
    },
    {
     "name": "stderr",
     "output_type": "stream",
     "text": [
      " 17%|█▋        | 9/52 [05:47<18:07, 25.30s/it]"
     ]
    },
    {
     "name": "stdout",
     "output_type": "stream",
     "text": [
      "sea_ice done\n",
      "CanESM5-CanOE\n",
      "r1i1p2f1\n"
     ]
    },
    {
     "name": "stderr",
     "output_type": "stream",
     "text": [
      " 19%|█▉        | 10/52 [05:57<14:14, 20.34s/it]"
     ]
    },
    {
     "name": "stdout",
     "output_type": "stream",
     "text": [
      "sea_ice done\n",
      "CMCC-CM2-HR4\n",
      "r1i1p1f1\n"
     ]
    },
    {
     "name": "stderr",
     "output_type": "stream",
     "text": [
      " 21%|██        | 11/52 [06:26<15:44, 23.04s/it]"
     ]
    },
    {
     "name": "stdout",
     "output_type": "stream",
     "text": [
      "sea_ice done\n",
      "CMCC-CM2-SR5\n",
      "r1i1p1f1\n"
     ]
    },
    {
     "name": "stderr",
     "output_type": "stream",
     "text": [
      " 23%|██▎       | 12/52 [07:07<19:06, 28.66s/it]"
     ]
    },
    {
     "name": "stdout",
     "output_type": "stream",
     "text": [
      "sea_ice done\n",
      "CMCC-ESM2\n",
      "r1i1p1f1\n"
     ]
    },
    {
     "name": "stderr",
     "output_type": "stream",
     "text": [
      " 25%|██▌       | 13/52 [07:45<20:21, 31.31s/it]"
     ]
    },
    {
     "name": "stdout",
     "output_type": "stream",
     "text": [
      "sea_ice done\n",
      "CNRM-CM6-1\n",
      "r1i1p1f2\n"
     ]
    },
    {
     "name": "stderr",
     "output_type": "stream",
     "text": [
      " 27%|██▋       | 14/52 [08:01<17:02, 26.90s/it]"
     ]
    },
    {
     "name": "stdout",
     "output_type": "stream",
     "text": [
      "sea_ice done\n",
      "CNRM-CM6-1-HR\n",
      "r1i1p1f2\n"
     ]
    },
    {
     "name": "stderr",
     "output_type": "stream",
     "text": [
      " 29%|██▉       | 15/52 [08:02<11:39, 18.90s/it]"
     ]
    },
    {
     "name": "stdout",
     "output_type": "stream",
     "text": [
      "failed\n",
      "CNRM-ESM2-1\n",
      "r1i1p1f2\n"
     ]
    },
    {
     "name": "stderr",
     "output_type": "stream",
     "text": [
      " 31%|███       | 16/52 [08:17<10:39, 17.76s/it]"
     ]
    },
    {
     "name": "stdout",
     "output_type": "stream",
     "text": [
      "sea_ice done\n",
      "ACCESS-ESM1-5\n"
     ]
    },
    {
     "name": "stderr",
     "output_type": "stream",
     "text": [
      " 33%|███▎      | 17/52 [08:17<07:18, 12.52s/it]"
     ]
    },
    {
     "name": "stdout",
     "output_type": "stream",
     "text": [
      "r1i1p1f1\n",
      "failed\n",
      "ACCESS-CM2\n",
      "r1i1p1f1\n"
     ]
    },
    {
     "name": "stderr",
     "output_type": "stream",
     "text": [
      " 35%|███▍      | 18/52 [08:18<05:03,  8.92s/it]"
     ]
    },
    {
     "name": "stdout",
     "output_type": "stream",
     "text": [
      "failed\n",
      "E3SM-1-1\n",
      "r1i1p1f1\n"
     ]
    },
    {
     "name": "stderr",
     "output_type": "stream",
     "text": [
      " 37%|███▋      | 19/52 [09:38<16:44, 30.44s/it]"
     ]
    },
    {
     "name": "stdout",
     "output_type": "stream",
     "text": [
      "sea_ice done\n",
      "E3SM-1-1-ECA\n",
      "r1i1p1f1\n"
     ]
    },
    {
     "name": "stderr",
     "output_type": "stream",
     "text": [
      " 38%|███▊      | 20/52 [10:56<23:43, 44.48s/it]"
     ]
    },
    {
     "name": "stdout",
     "output_type": "stream",
     "text": [
      "sea_ice done\n",
      "EC-Earth3\n",
      "r1i1p1f1\n"
     ]
    },
    {
     "name": "stderr",
     "output_type": "stream",
     "text": [
      " 40%|████      | 21/52 [16:45<1:10:17, 136.05s/it]"
     ]
    },
    {
     "name": "stdout",
     "output_type": "stream",
     "text": [
      "sea_ice done\n",
      "EC-Earth3-AerChem\n",
      "r1i1p1f1\n"
     ]
    },
    {
     "name": "stderr",
     "output_type": "stream",
     "text": [
      " 42%|████▏     | 22/52 [20:33<1:21:46, 163.54s/it]"
     ]
    },
    {
     "name": "stdout",
     "output_type": "stream",
     "text": [
      "sea_ice done\n",
      "EC-Earth3-CC\n",
      "r1i1p1f1\n"
     ]
    },
    {
     "name": "stderr",
     "output_type": "stream",
     "text": [
      " 44%|████▍     | 23/52 [24:11<1:27:00, 180.02s/it]"
     ]
    },
    {
     "name": "stdout",
     "output_type": "stream",
     "text": [
      "sea_ice done\n",
      "EC-Earth3-Veg-LR\n",
      "r1i1p1f1\n"
     ]
    },
    {
     "name": "stderr",
     "output_type": "stream",
     "text": [
      " 46%|████▌     | 24/52 [26:10<1:15:28, 161.74s/it]"
     ]
    },
    {
     "name": "stdout",
     "output_type": "stream",
     "text": [
      "sea_ice done\n",
      "FIO-ESM-2-0\n",
      "r1i1p1f1\n"
     ]
    },
    {
     "name": "stderr",
     "output_type": "stream",
     "text": [
      " 48%|████▊     | 25/52 [26:45<55:41, 123.77s/it]  "
     ]
    },
    {
     "name": "stdout",
     "output_type": "stream",
     "text": [
      "sea_ice done\n",
      "MPI-ESM-1-2-HAM\n",
      "r1i1p1f1\n"
     ]
    },
    {
     "name": "stderr",
     "output_type": "stream",
     "text": [
      " 50%|█████     | 26/52 [27:10<40:40, 93.85s/it] "
     ]
    },
    {
     "name": "stdout",
     "output_type": "stream",
     "text": [
      "sea_ice done\n",
      "INM-CM4-8\n",
      "r1i1p1f1\n"
     ]
    },
    {
     "name": "stderr",
     "output_type": "stream",
     "text": [
      " 52%|█████▏    | 27/52 [27:29<29:49, 71.57s/it]"
     ]
    },
    {
     "name": "stdout",
     "output_type": "stream",
     "text": [
      "sea_ice done\n",
      "INM-CM5-0\n",
      "r1i1p1f1\n"
     ]
    },
    {
     "name": "stderr",
     "output_type": "stream",
     "text": [
      " 54%|█████▍    | 28/52 [27:48<22:16, 55.68s/it]"
     ]
    },
    {
     "name": "stdout",
     "output_type": "stream",
     "text": [
      "sea_ice done\n",
      "IPSL-CM6A-LR\n",
      "r1i1p1f1\n"
     ]
    },
    {
     "name": "stderr",
     "output_type": "stream",
     "text": [
      "/home/users/a_duffey/.conda/envs/main/lib/python3.10/site-packages/xesmf/smm.py:130: UserWarning: Input array is not C_CONTIGUOUS. Will affect performance.\n",
      "  warnings.warn('Input array is not C_CONTIGUOUS. ' 'Will affect performance.')\n",
      " 56%|█████▌    | 29/52 [28:02<16:33, 43.18s/it]"
     ]
    },
    {
     "name": "stdout",
     "output_type": "stream",
     "text": [
      "sea_ice done\n",
      "KIOST-ESM\n",
      "r1i1p1f1\n"
     ]
    },
    {
     "name": "stderr",
     "output_type": "stream",
     "text": [
      " 58%|█████▊    | 30/52 [28:24<13:32, 36.93s/it]"
     ]
    },
    {
     "name": "stdout",
     "output_type": "stream",
     "text": [
      "sea_ice done\n",
      "MIROC-ES2L\n",
      "r1i1p1f2\n"
     ]
    },
    {
     "name": "stderr",
     "output_type": "stream",
     "text": [
      " 60%|█████▉    | 31/52 [28:30<09:38, 27.53s/it]"
     ]
    },
    {
     "name": "stdout",
     "output_type": "stream",
     "text": [
      "failed\n",
      "MIROC6\n",
      "r1i1p1f1\n"
     ]
    },
    {
     "name": "stderr",
     "output_type": "stream",
     "text": [
      " 62%|██████▏   | 32/52 [28:50<08:27, 25.37s/it]"
     ]
    },
    {
     "name": "stdout",
     "output_type": "stream",
     "text": [
      "sea_ice done\n",
      "HadGEM3-GC31-LL\n",
      "r1i1p1f3\n"
     ]
    },
    {
     "name": "stderr",
     "output_type": "stream",
     "text": [
      " 63%|██████▎   | 33/52 [29:05<07:01, 22.19s/it]"
     ]
    },
    {
     "name": "stdout",
     "output_type": "stream",
     "text": [
      "sea_ice done\n",
      "HadGEM3-GC31-MM\n",
      "r1i1p1f3\n"
     ]
    },
    {
     "name": "stderr",
     "output_type": "stream",
     "text": [
      "/home/users/a_duffey/.conda/envs/main/lib/python3.10/site-packages/xarray/core/indexing.py:1228: PerformanceWarning: Slicing is producing a large chunk. To accept the large\n",
      "chunk and silence this warning, set the option\n",
      "    >>> with dask.config.set(**{'array.slicing.split_large_chunks': False}):\n",
      "    ...     array[indexer]\n",
      "\n",
      "To avoid creating the large chunks, set the option\n",
      "    >>> with dask.config.set(**{'array.slicing.split_large_chunks': True}):\n",
      "    ...     array[indexer]\n",
      "  return self.array[key]\n",
      " 65%|██████▌   | 34/52 [30:15<10:59, 36.65s/it]"
     ]
    },
    {
     "name": "stdout",
     "output_type": "stream",
     "text": [
      "sea_ice done\n",
      "UKESM1-0-LL\n",
      "r1i1p1f2\n"
     ]
    },
    {
     "name": "stderr",
     "output_type": "stream",
     "text": [
      " 67%|██████▋   | 35/52 [30:32<08:42, 30.73s/it]"
     ]
    },
    {
     "name": "stdout",
     "output_type": "stream",
     "text": [
      "sea_ice done\n",
      "MPI-ESM1-2-HR\n",
      "r1i1p1f1\n"
     ]
    },
    {
     "name": "stderr",
     "output_type": "stream",
     "text": [
      " 69%|██████▉   | 36/52 [31:39<11:07, 41.71s/it]"
     ]
    },
    {
     "name": "stdout",
     "output_type": "stream",
     "text": [
      "sea_ice done\n",
      "MPI-ESM1-2-LR\n",
      "r1i1p1f1\n"
     ]
    },
    {
     "name": "stderr",
     "output_type": "stream",
     "text": [
      " 71%|███████   | 37/52 [32:14<09:54, 39.67s/it]"
     ]
    },
    {
     "name": "stdout",
     "output_type": "stream",
     "text": [
      "sea_ice done\n",
      "MRI-ESM2-0\n",
      "r1i1p1f1\n"
     ]
    },
    {
     "name": "stderr",
     "output_type": "stream",
     "text": [
      " 73%|███████▎  | 38/52 [33:06<10:04, 43.17s/it]"
     ]
    },
    {
     "name": "stdout",
     "output_type": "stream",
     "text": [
      "sea_ice done\n",
      "GISS-E2-1-G\n",
      "r1i1p1f1\n"
     ]
    },
    {
     "name": "stderr",
     "output_type": "stream",
     "text": [
      " 75%|███████▌  | 39/52 [33:24<07:46, 35.86s/it]"
     ]
    },
    {
     "name": "stdout",
     "output_type": "stream",
     "text": [
      "failed\n",
      "GISS-E2-1-H\n",
      "r1i1p1f1\n"
     ]
    },
    {
     "name": "stderr",
     "output_type": "stream",
     "text": [
      " 77%|███████▋  | 40/52 [33:43<06:06, 30.56s/it]"
     ]
    },
    {
     "name": "stdout",
     "output_type": "stream",
     "text": [
      "failed\n",
      "CESM2\n",
      "r1i1p1f1\n"
     ]
    },
    {
     "name": "stderr",
     "output_type": "stream",
     "text": [
      "/home/users/a_duffey/.conda/envs/main/lib/python3.10/site-packages/xarray/conventions.py:516: SerializationWarning: variable 'ta' has multiple fill values {1e+20, 1e+20}, decoding all values to NaN.\n",
      "  new_vars[k] = decode_cf_variable(\n",
      "/home/users/a_duffey/.conda/envs/main/lib/python3.10/site-packages/xarray/conventions.py:516: SerializationWarning: variable 'tas' has multiple fill values {1e+20, 1e+20}, decoding all values to NaN.\n",
      "  new_vars[k] = decode_cf_variable(\n",
      "/home/users/a_duffey/.conda/envs/main/lib/python3.10/site-packages/xarray/conventions.py:516: SerializationWarning: variable 'clivi' has multiple fill values {1e+20, 1e+20}, decoding all values to NaN.\n",
      "  new_vars[k] = decode_cf_variable(\n",
      "/home/users/a_duffey/.conda/envs/main/lib/python3.10/site-packages/xarray/conventions.py:516: SerializationWarning: variable 'clwvi' has multiple fill values {1e+20, 1e+20}, decoding all values to NaN.\n",
      "  new_vars[k] = decode_cf_variable(\n",
      " 79%|███████▉  | 41/52 [33:51<04:23, 23.92s/it]"
     ]
    },
    {
     "name": "stdout",
     "output_type": "stream",
     "text": [
      "failed\n",
      "CESM2-FV2\n",
      "r1i1p1f1\n"
     ]
    },
    {
     "name": "stderr",
     "output_type": "stream",
     "text": [
      "/home/users/a_duffey/.conda/envs/main/lib/python3.10/site-packages/xarray/conventions.py:516: SerializationWarning: variable 'ta' has multiple fill values {1e+20, 1e+20}, decoding all values to NaN.\n",
      "  new_vars[k] = decode_cf_variable(\n",
      "/home/users/a_duffey/.conda/envs/main/lib/python3.10/site-packages/xarray/conventions.py:516: SerializationWarning: variable 'tas' has multiple fill values {1e+20, 1e+20}, decoding all values to NaN.\n",
      "  new_vars[k] = decode_cf_variable(\n",
      "/home/users/a_duffey/.conda/envs/main/lib/python3.10/site-packages/xarray/conventions.py:516: SerializationWarning: variable 'clivi' has multiple fill values {1e+20, 1e+20}, decoding all values to NaN.\n",
      "  new_vars[k] = decode_cf_variable(\n",
      "/home/users/a_duffey/.conda/envs/main/lib/python3.10/site-packages/xarray/conventions.py:516: SerializationWarning: variable 'clwvi' has multiple fill values {1e+20, 1e+20}, decoding all values to NaN.\n",
      "  new_vars[k] = decode_cf_variable(\n",
      " 81%|████████  | 42/52 [34:12<03:51, 23.13s/it]"
     ]
    },
    {
     "name": "stdout",
     "output_type": "stream",
     "text": [
      "sea_ice done\n",
      "CESM2-WACCM\n",
      "r1i1p1f1\n"
     ]
    },
    {
     "name": "stderr",
     "output_type": "stream",
     "text": [
      "/home/users/a_duffey/.conda/envs/main/lib/python3.10/site-packages/xarray/conventions.py:516: SerializationWarning: variable 'ta' has multiple fill values {1e+20, 1e+20}, decoding all values to NaN.\n",
      "  new_vars[k] = decode_cf_variable(\n",
      "/home/users/a_duffey/.conda/envs/main/lib/python3.10/site-packages/xarray/conventions.py:516: SerializationWarning: variable 'tas' has multiple fill values {1e+20, 1e+20}, decoding all values to NaN.\n",
      "  new_vars[k] = decode_cf_variable(\n",
      "/home/users/a_duffey/.conda/envs/main/lib/python3.10/site-packages/xarray/conventions.py:516: SerializationWarning: variable 'clivi' has multiple fill values {1e+20, 1e+20}, decoding all values to NaN.\n",
      "  new_vars[k] = decode_cf_variable(\n",
      "/home/users/a_duffey/.conda/envs/main/lib/python3.10/site-packages/xarray/conventions.py:516: SerializationWarning: variable 'clwvi' has multiple fill values {1e+20, 1e+20}, decoding all values to NaN.\n",
      "  new_vars[k] = decode_cf_variable(\n",
      " 83%|████████▎ | 43/52 [34:16<02:36, 17.35s/it]"
     ]
    },
    {
     "name": "stdout",
     "output_type": "stream",
     "text": [
      "failed\n",
      "CESM2-WACCM-FV2\n",
      "r1i1p1f1\n"
     ]
    },
    {
     "name": "stderr",
     "output_type": "stream",
     "text": [
      "/home/users/a_duffey/.conda/envs/main/lib/python3.10/site-packages/xarray/conventions.py:516: SerializationWarning: variable 'ta' has multiple fill values {1e+20, 1e+20}, decoding all values to NaN.\n",
      "  new_vars[k] = decode_cf_variable(\n",
      "/home/users/a_duffey/.conda/envs/main/lib/python3.10/site-packages/xarray/conventions.py:516: SerializationWarning: variable 'tas' has multiple fill values {1e+20, 1e+20}, decoding all values to NaN.\n",
      "  new_vars[k] = decode_cf_variable(\n",
      "/home/users/a_duffey/.conda/envs/main/lib/python3.10/site-packages/xarray/conventions.py:516: SerializationWarning: variable 'clivi' has multiple fill values {1e+20, 1e+20}, decoding all values to NaN.\n",
      "  new_vars[k] = decode_cf_variable(\n",
      "/home/users/a_duffey/.conda/envs/main/lib/python3.10/site-packages/xarray/conventions.py:516: SerializationWarning: variable 'clwvi' has multiple fill values {1e+20, 1e+20}, decoding all values to NaN.\n",
      "  new_vars[k] = decode_cf_variable(\n",
      " 85%|████████▍ | 44/52 [34:32<02:15, 16.96s/it]"
     ]
    },
    {
     "name": "stdout",
     "output_type": "stream",
     "text": [
      "sea_ice done\n",
      "NorESM2-LM\n",
      "r1i1p1f1\n"
     ]
    },
    {
     "name": "stderr",
     "output_type": "stream",
     "text": [
      " 87%|████████▋ | 45/52 [35:05<02:31, 21.65s/it]"
     ]
    },
    {
     "name": "stdout",
     "output_type": "stream",
     "text": [
      "sea_ice done\n",
      "NorESM2-MM\n",
      "r1i1p1f1\n"
     ]
    },
    {
     "name": "stderr",
     "output_type": "stream",
     "text": [
      " 88%|████████▊ | 46/52 [35:52<02:55, 29.29s/it]"
     ]
    },
    {
     "name": "stdout",
     "output_type": "stream",
     "text": [
      "sea_ice done\n",
      "KACE-1-0-G\n",
      "r1i1p1f1\n"
     ]
    },
    {
     "name": "stderr",
     "output_type": "stream",
     "text": [
      " 90%|█████████ | 47/52 [35:55<01:47, 21.52s/it]"
     ]
    },
    {
     "name": "stdout",
     "output_type": "stream",
     "text": [
      "failed\n",
      "GFDL-CM4\n",
      "r1i1p1f1\n"
     ]
    },
    {
     "name": "stderr",
     "output_type": "stream",
     "text": [
      " 92%|█████████▏| 48/52 [36:22<01:32, 23.09s/it]"
     ]
    },
    {
     "name": "stdout",
     "output_type": "stream",
     "text": [
      "sea_ice done\n",
      "GFDL-ESM4\n",
      "r1i1p1f1\n"
     ]
    },
    {
     "name": "stderr",
     "output_type": "stream",
     "text": [
      " 94%|█████████▍| 49/52 [36:29<00:54, 18.19s/it]"
     ]
    },
    {
     "name": "stdout",
     "output_type": "stream",
     "text": [
      "failed\n",
      "NESM3\n",
      "r1i1p1f1\n"
     ]
    },
    {
     "name": "stderr",
     "output_type": "stream",
     "text": [
      " 96%|█████████▌| 50/52 [36:39<00:31, 15.91s/it]"
     ]
    },
    {
     "name": "stdout",
     "output_type": "stream",
     "text": [
      "sea_ice done\n",
      "SAM0-UNICON\n",
      "r1i1p1f1\n"
     ]
    },
    {
     "name": "stderr",
     "output_type": "stream",
     "text": [
      " 98%|█████████▊| 51/52 [37:29<00:26, 26.02s/it]"
     ]
    },
    {
     "name": "stdout",
     "output_type": "stream",
     "text": [
      "sea_ice done\n",
      "CIESM\n",
      "r1i1p1f1\n"
     ]
    },
    {
     "name": "stderr",
     "output_type": "stream",
     "text": [
      "100%|██████████| 52/52 [38:07<00:00, 43.99s/it]"
     ]
    },
    {
     "name": "stdout",
     "output_type": "stream",
     "text": [
      "sea_ice done\n"
     ]
    },
    {
     "name": "stderr",
     "output_type": "stream",
     "text": [
      "\n"
     ]
    }
   ],
   "source": [
    "### cloud ice fraction processing\n",
    "\n",
    "### make a list of models:\n",
    "dirs=[]\n",
    "for x in glob.glob('/badc/cmip6/data/CMIP6/CMIP/*/*/historical/*/Amon/clivi/*/latest/'): \n",
    "    dirs.append(x)\n",
    "\n",
    "models = []\n",
    "for x in dirs:\n",
    "    model = x.split('/')[7]\n",
    "    if model not in models:\n",
    "        models.append(model)\n",
    "\n",
    "\n",
    "### now run over all models\n",
    "vars = ['ta', 'tas', 'clivi', 'clwvi']\n",
    "\n",
    "for model in tqdm(models):\n",
    "    print(model)\n",
    "    ens_mems_long = os.listdir(glob.glob('/badc/cmip6/data/CMIP6/*/*/{m}/historical/'.format(m=model))[0])\n",
    "    ens_mems = sorted([idx for idx in ens_mems_long if idx[0].lower() == 'r'.lower()], key=len)\n",
    "    #DF_multi_ens = pd.DataFrame()\n",
    "    for ens_mem in ens_mems[0:1]:\n",
    "        print(ens_mem)\n",
    "        try:\n",
    "            paths = []\n",
    "            for var in vars:\n",
    "                folder = glob.glob('/badc/cmip6/data/CMIP6/*/*/{m}/historical/{ens}/Amon/{v}/*/latest/'.format(\n",
    "                                        m=model, ens=ens_mem, v=var))[0]\n",
    "                paths.append(folder)\n",
    "            dirs = dict(zip(vars, paths))\n",
    "        \n",
    "            ### select processing function from options below:\n",
    "            process_cloud_ice_fraction(dirs=dirs, region='sea_ice', mod=model, ens=ens_mem)\n",
    "            \n",
    "        except: \n",
    "            print('failed')"
   ]
  },
  {
   "cell_type": "code",
   "execution_count": 6,
   "id": "ca50ab4e-6b78-4a48-ad95-34402b242d39",
   "metadata": {},
   "outputs": [
    {
     "name": "stderr",
     "output_type": "stream",
     "text": [
      "  0%|          | 0/64 [00:00<?, ?it/s]"
     ]
    },
    {
     "name": "stdout",
     "output_type": "stream",
     "text": [
      "TaiESM1\n",
      "r1i1p1f1\n"
     ]
    },
    {
     "name": "stderr",
     "output_type": "stream",
     "text": [
      "  2%|▏         | 1/64 [00:04<04:30,  4.30s/it]"
     ]
    },
    {
     "name": "stdout",
     "output_type": "stream",
     "text": [
      "sea_ice done\n",
      "AWI-CM-1-1-MR\n",
      "r1i1p1f1\n"
     ]
    },
    {
     "name": "stderr",
     "output_type": "stream",
     "text": [
      "  3%|▎         | 2/64 [00:14<08:15,  7.99s/it]"
     ]
    },
    {
     "name": "stdout",
     "output_type": "stream",
     "text": [
      "failed\n",
      "AWI-ESM-1-1-LR\n",
      "r1i1p1f1\n"
     ]
    },
    {
     "name": "stderr",
     "output_type": "stream",
     "text": [
      "  5%|▍         | 3/64 [00:26<09:50,  9.68s/it]"
     ]
    },
    {
     "name": "stdout",
     "output_type": "stream",
     "text": [
      "failed\n",
      "BCC-CSM2-MR\n",
      "r1i1p1f1\n"
     ]
    },
    {
     "name": "stderr",
     "output_type": "stream",
     "text": [
      "  6%|▋         | 4/64 [00:29<07:01,  7.03s/it]"
     ]
    },
    {
     "name": "stdout",
     "output_type": "stream",
     "text": [
      "sea_ice done\n",
      "BCC-ESM1\n",
      "r1i1p1f1\n"
     ]
    },
    {
     "name": "stderr",
     "output_type": "stream",
     "text": [
      "  8%|▊         | 5/64 [00:30<04:50,  4.93s/it]"
     ]
    },
    {
     "name": "stdout",
     "output_type": "stream",
     "text": [
      "sea_ice done\n",
      "CAMS-CSM1-0\n",
      "r1i1p1f1\n"
     ]
    },
    {
     "name": "stderr",
     "output_type": "stream",
     "text": [
      "  9%|▉         | 6/64 [00:33<04:01,  4.17s/it]"
     ]
    },
    {
     "name": "stdout",
     "output_type": "stream",
     "text": [
      "sea_ice done\n",
      "CAS-ESM2-0\n",
      "r1i1p1f1\n"
     ]
    },
    {
     "name": "stderr",
     "output_type": "stream",
     "text": [
      " 11%|█         | 7/64 [00:36<03:29,  3.67s/it]"
     ]
    },
    {
     "name": "stdout",
     "output_type": "stream",
     "text": [
      "sea_ice done\n",
      "FGOALS-f3-L\n",
      "r1i1p1f1\n"
     ]
    },
    {
     "name": "stderr",
     "output_type": "stream",
     "text": [
      " 12%|█▎        | 8/64 [00:36<02:25,  2.59s/it]"
     ]
    },
    {
     "name": "stdout",
     "output_type": "stream",
     "text": [
      "failed\n",
      "FGOALS-g3\n",
      "r1i1p1f1\n"
     ]
    },
    {
     "name": "stderr",
     "output_type": "stream",
     "text": [
      " 14%|█▍        | 9/64 [00:38<02:07,  2.32s/it]"
     ]
    },
    {
     "name": "stdout",
     "output_type": "stream",
     "text": [
      "sea_ice done\n",
      "IITM-ESM\n",
      "r1i1p1f1\n"
     ]
    },
    {
     "name": "stderr",
     "output_type": "stream",
     "text": [
      " 16%|█▌        | 10/64 [00:39<01:48,  2.01s/it]"
     ]
    },
    {
     "name": "stdout",
     "output_type": "stream",
     "text": [
      "failed\n",
      "CanESM5\n",
      "r1i1p1f1\n"
     ]
    },
    {
     "name": "stderr",
     "output_type": "stream",
     "text": [
      " 17%|█▋        | 11/64 [00:41<01:42,  1.94s/it]"
     ]
    },
    {
     "name": "stdout",
     "output_type": "stream",
     "text": [
      "sea_ice done\n",
      "CanESM5-CanOE\n",
      "r1i1p2f1\n"
     ]
    },
    {
     "name": "stderr",
     "output_type": "stream",
     "text": [
      " 19%|█▉        | 12/64 [00:42<01:37,  1.87s/it]"
     ]
    },
    {
     "name": "stdout",
     "output_type": "stream",
     "text": [
      "sea_ice done\n",
      "CMCC-CM2-HR4\n",
      "r1i1p1f1\n"
     ]
    },
    {
     "name": "stderr",
     "output_type": "stream",
     "text": [
      " 20%|██        | 13/64 [00:47<02:24,  2.84s/it]"
     ]
    },
    {
     "name": "stdout",
     "output_type": "stream",
     "text": [
      "sea_ice done\n",
      "CMCC-CM2-SR5\n",
      "r1i1p1f1\n"
     ]
    },
    {
     "name": "stderr",
     "output_type": "stream",
     "text": [
      " 22%|██▏       | 14/64 [00:51<02:37,  3.14s/it]"
     ]
    },
    {
     "name": "stdout",
     "output_type": "stream",
     "text": [
      "sea_ice done\n",
      "CMCC-ESM2\n",
      "r1i1p1f1\n"
     ]
    },
    {
     "name": "stderr",
     "output_type": "stream",
     "text": [
      " 23%|██▎       | 15/64 [00:55<02:45,  3.37s/it]"
     ]
    },
    {
     "name": "stdout",
     "output_type": "stream",
     "text": [
      "sea_ice done\n",
      "CNRM-CM6-1\n",
      "r1i1p1f2\n"
     ]
    },
    {
     "name": "stderr",
     "output_type": "stream",
     "text": [
      " 25%|██▌       | 16/64 [00:58<02:38,  3.31s/it]"
     ]
    },
    {
     "name": "stdout",
     "output_type": "stream",
     "text": [
      "sea_ice done\n",
      "CNRM-CM6-1-HR\n",
      "r1i1p1f2\n"
     ]
    },
    {
     "name": "stderr",
     "output_type": "stream",
     "text": [
      " 27%|██▋       | 17/64 [00:59<01:57,  2.49s/it]"
     ]
    },
    {
     "name": "stdout",
     "output_type": "stream",
     "text": [
      "failed\n",
      "CNRM-ESM2-1\n",
      "r1i1p1f2\n"
     ]
    },
    {
     "name": "stderr",
     "output_type": "stream",
     "text": [
      " 28%|██▊       | 18/64 [01:02<02:00,  2.63s/it]"
     ]
    },
    {
     "name": "stdout",
     "output_type": "stream",
     "text": [
      "sea_ice done\n",
      "ACCESS-ESM1-5\n",
      "r1i1p1f1\n"
     ]
    },
    {
     "name": "stderr",
     "output_type": "stream",
     "text": [
      " 30%|██▉       | 19/64 [01:05<02:02,  2.72s/it]"
     ]
    },
    {
     "name": "stdout",
     "output_type": "stream",
     "text": [
      "sea_ice done\n",
      "ACCESS-CM2\n",
      "r1i1p1f1\n"
     ]
    },
    {
     "name": "stderr",
     "output_type": "stream",
     "text": [
      " 31%|███▏      | 20/64 [01:09<02:12,  3.02s/it]"
     ]
    },
    {
     "name": "stdout",
     "output_type": "stream",
     "text": [
      "sea_ice done\n",
      "E3SM-1-0\n",
      "r1i1p1f1\n"
     ]
    },
    {
     "name": "stderr",
     "output_type": "stream",
     "text": [
      " 33%|███▎      | 21/64 [01:19<03:52,  5.40s/it]"
     ]
    },
    {
     "name": "stdout",
     "output_type": "stream",
     "text": [
      "sea_ice done\n",
      "E3SM-1-1\n",
      "r1i1p1f1\n"
     ]
    },
    {
     "name": "stderr",
     "output_type": "stream",
     "text": [
      " 34%|███▍      | 22/64 [01:51<09:18, 13.30s/it]"
     ]
    },
    {
     "name": "stdout",
     "output_type": "stream",
     "text": [
      "sea_ice done\n",
      "E3SM-1-1-ECA\n",
      "r1i1p1f1\n"
     ]
    },
    {
     "name": "stderr",
     "output_type": "stream",
     "text": [
      " 36%|███▌      | 23/64 [02:07<09:30, 13.93s/it]"
     ]
    },
    {
     "name": "stdout",
     "output_type": "stream",
     "text": [
      "sea_ice done\n",
      "EC-Earth3\n",
      "r1i1p1f1\n"
     ]
    },
    {
     "name": "stderr",
     "output_type": "stream",
     "text": [
      " 38%|███▊      | 24/64 [04:26<34:27, 51.69s/it]"
     ]
    },
    {
     "name": "stdout",
     "output_type": "stream",
     "text": [
      "sea_ice done\n",
      "EC-Earth3-AerChem\n",
      "r1i1p1f1\n"
     ]
    },
    {
     "name": "stderr",
     "output_type": "stream",
     "text": [
      " 39%|███▉      | 25/64 [05:11<32:07, 49.43s/it]"
     ]
    },
    {
     "name": "stdout",
     "output_type": "stream",
     "text": [
      "sea_ice done\n",
      "EC-Earth3-CC\n",
      "r1i1p1f1\n"
     ]
    },
    {
     "name": "stderr",
     "output_type": "stream",
     "text": [
      " 41%|████      | 26/64 [05:56<30:32, 48.22s/it]"
     ]
    },
    {
     "name": "stdout",
     "output_type": "stream",
     "text": [
      "sea_ice done\n",
      "EC-Earth3-Veg\n",
      "r1i1p1f1\n"
     ]
    },
    {
     "name": "stderr",
     "output_type": "stream",
     "text": [
      " 42%|████▏     | 27/64 [06:51<30:58, 50.22s/it]"
     ]
    },
    {
     "name": "stdout",
     "output_type": "stream",
     "text": [
      "sea_ice done\n",
      "EC-Earth3-Veg-LR\n",
      "r1i1p1f1\n"
     ]
    },
    {
     "name": "stderr",
     "output_type": "stream",
     "text": [
      " 44%|████▍     | 28/64 [07:30<28:04, 46.79s/it]"
     ]
    },
    {
     "name": "stdout",
     "output_type": "stream",
     "text": [
      "sea_ice done\n",
      "FIO-ESM-2-0\n",
      "r1i1p1f1\n"
     ]
    },
    {
     "name": "stderr",
     "output_type": "stream",
     "text": [
      " 45%|████▌     | 29/64 [07:36<20:08, 34.53s/it]"
     ]
    },
    {
     "name": "stdout",
     "output_type": "stream",
     "text": [
      "sea_ice done\n",
      "MPI-ESM-1-2-HAM\n",
      "r1i1p1f1\n"
     ]
    },
    {
     "name": "stderr",
     "output_type": "stream",
     "text": [
      " 47%|████▋     | 30/64 [07:44<15:10, 26.79s/it]"
     ]
    },
    {
     "name": "stdout",
     "output_type": "stream",
     "text": [
      "sea_ice done\n",
      "INM-CM4-8\n",
      "r1i1p1f1\n"
     ]
    },
    {
     "name": "stderr",
     "output_type": "stream",
     "text": [
      " 48%|████▊     | 31/64 [07:51<11:28, 20.88s/it]"
     ]
    },
    {
     "name": "stdout",
     "output_type": "stream",
     "text": [
      "sea_ice done\n",
      "INM-CM5-0\n",
      "r1i1p1f1\n"
     ]
    },
    {
     "name": "stderr",
     "output_type": "stream",
     "text": [
      " 50%|█████     | 32/64 [07:57<08:44, 16.38s/it]"
     ]
    },
    {
     "name": "stdout",
     "output_type": "stream",
     "text": [
      "sea_ice done\n",
      "IPSL-CM6A-LR\n",
      "r1i1p1f1\n"
     ]
    },
    {
     "name": "stderr",
     "output_type": "stream",
     "text": [
      "/home/users/a_duffey/.conda/envs/main/lib/python3.10/site-packages/xesmf/smm.py:130: UserWarning: Input array is not C_CONTIGUOUS. Will affect performance.\n",
      "  warnings.warn('Input array is not C_CONTIGUOUS. ' 'Will affect performance.')\n",
      " 52%|█████▏    | 33/64 [08:02<06:40, 12.91s/it]"
     ]
    },
    {
     "name": "stdout",
     "output_type": "stream",
     "text": [
      "sea_ice done\n",
      "IPSL-CM6A-LR-INCA\n",
      "r1i1p1f1\n"
     ]
    },
    {
     "name": "stderr",
     "output_type": "stream",
     "text": [
      " 53%|█████▎    | 34/64 [08:04<04:47,  9.58s/it]"
     ]
    },
    {
     "name": "stdout",
     "output_type": "stream",
     "text": [
      "failed\n",
      "KIOST-ESM\n",
      "r1i1p1f1\n"
     ]
    },
    {
     "name": "stderr",
     "output_type": "stream",
     "text": [
      " 55%|█████▍    | 35/64 [08:13<04:32,  9.41s/it]"
     ]
    },
    {
     "name": "stdout",
     "output_type": "stream",
     "text": [
      "sea_ice done\n",
      "MIROC-ES2H\n",
      "r1i1p1f2\n"
     ]
    },
    {
     "name": "stderr",
     "output_type": "stream",
     "text": [
      " 56%|█████▋    | 36/64 [08:13<03:08,  6.73s/it]"
     ]
    },
    {
     "name": "stdout",
     "output_type": "stream",
     "text": [
      "failed\n",
      "MIROC-ES2L\n",
      "r1i1p1f2\n"
     ]
    },
    {
     "name": "stderr",
     "output_type": "stream",
     "text": [
      " 58%|█████▊    | 37/64 [08:15<02:23,  5.30s/it]"
     ]
    },
    {
     "name": "stdout",
     "output_type": "stream",
     "text": [
      "failed\n",
      "MIROC6\n",
      "r1i1p1f1\n"
     ]
    },
    {
     "name": "stderr",
     "output_type": "stream",
     "text": [
      " 59%|█████▉    | 38/64 [08:21<02:21,  5.43s/it]"
     ]
    },
    {
     "name": "stdout",
     "output_type": "stream",
     "text": [
      "sea_ice done\n",
      "HadGEM3-GC31-LL\n",
      "r1i1p1f3\n"
     ]
    },
    {
     "name": "stderr",
     "output_type": "stream",
     "text": [
      " 61%|██████    | 39/64 [08:27<02:16,  5.48s/it]"
     ]
    },
    {
     "name": "stdout",
     "output_type": "stream",
     "text": [
      "sea_ice done\n",
      "HadGEM3-GC31-MM\n",
      "r1i1p1f3\n"
     ]
    },
    {
     "name": "stderr",
     "output_type": "stream",
     "text": [
      " 62%|██████▎   | 40/64 [08:44<03:39,  9.16s/it]"
     ]
    },
    {
     "name": "stdout",
     "output_type": "stream",
     "text": [
      "sea_ice done\n",
      "UKESM1-0-LL\n",
      "r1i1p1f2\n"
     ]
    },
    {
     "name": "stderr",
     "output_type": "stream",
     "text": [
      " 64%|██████▍   | 41/64 [08:51<03:10,  8.29s/it]"
     ]
    },
    {
     "name": "stdout",
     "output_type": "stream",
     "text": [
      "sea_ice done\n",
      "UKESM1-1-LL\n",
      "r1i1p1f2\n"
     ]
    },
    {
     "name": "stderr",
     "output_type": "stream",
     "text": [
      " 66%|██████▌   | 42/64 [08:56<02:44,  7.48s/it]"
     ]
    },
    {
     "name": "stdout",
     "output_type": "stream",
     "text": [
      "sea_ice done\n",
      "ICON-ESM-LR\n",
      "r1i1p1f1\n"
     ]
    },
    {
     "name": "stderr",
     "output_type": "stream",
     "text": [
      " 67%|██████▋   | 43/64 [09:00<02:13,  6.37s/it]"
     ]
    },
    {
     "name": "stdout",
     "output_type": "stream",
     "text": [
      "failed\n",
      "MPI-ESM1-2-HR\n",
      "r1i1p1f1\n"
     ]
    },
    {
     "name": "stderr",
     "output_type": "stream",
     "text": [
      " 69%|██████▉   | 44/64 [09:30<04:29, 13.45s/it]"
     ]
    },
    {
     "name": "stdout",
     "output_type": "stream",
     "text": [
      "sea_ice done\n",
      "MPI-ESM1-2-LR\n",
      "r1i1p1f1\n"
     ]
    },
    {
     "name": "stderr",
     "output_type": "stream",
     "text": [
      " 70%|███████   | 45/64 [09:40<03:55, 12.40s/it]"
     ]
    },
    {
     "name": "stdout",
     "output_type": "stream",
     "text": [
      "sea_ice done\n",
      "MRI-ESM2-0\n",
      "r1i1p1f1\n"
     ]
    },
    {
     "name": "stderr",
     "output_type": "stream",
     "text": [
      " 72%|███████▏  | 46/64 [09:45<03:03, 10.19s/it]"
     ]
    },
    {
     "name": "stdout",
     "output_type": "stream",
     "text": [
      "sea_ice done\n",
      "GISS-E2-1-G\n",
      "r1i1p1f1\n"
     ]
    },
    {
     "name": "stderr",
     "output_type": "stream",
     "text": [
      " 73%|███████▎  | 47/64 [09:48<02:16,  8.03s/it]"
     ]
    },
    {
     "name": "stdout",
     "output_type": "stream",
     "text": [
      "failed\n",
      "GISS-E2-1-G-CC\n",
      "r1i1p1f1\n"
     ]
    },
    {
     "name": "stderr",
     "output_type": "stream",
     "text": [
      " 75%|███████▌  | 48/64 [09:50<01:40,  6.27s/it]"
     ]
    },
    {
     "name": "stdout",
     "output_type": "stream",
     "text": [
      "failed\n",
      "GISS-E2-1-H\n",
      "r1i1p1f1\n"
     ]
    },
    {
     "name": "stderr",
     "output_type": "stream",
     "text": [
      " 77%|███████▋  | 49/64 [09:59<01:44,  6.98s/it]"
     ]
    },
    {
     "name": "stdout",
     "output_type": "stream",
     "text": [
      "failed\n",
      "GISS-E2-2-H\n",
      "r1i1p1f1\n"
     ]
    },
    {
     "name": "stderr",
     "output_type": "stream",
     "text": [
      " 78%|███████▊  | 50/64 [10:05<01:35,  6.79s/it]"
     ]
    },
    {
     "name": "stdout",
     "output_type": "stream",
     "text": [
      "sea_ice done\n",
      "CESM2\n",
      "r1i1p1f1\n"
     ]
    },
    {
     "name": "stderr",
     "output_type": "stream",
     "text": [
      "/home/users/a_duffey/.conda/envs/main/lib/python3.10/site-packages/xarray/conventions.py:516: SerializationWarning: variable 'hfss' has multiple fill values {1e+20, 1e+20}, decoding all values to NaN.\n",
      "  new_vars[k] = decode_cf_variable(\n",
      " 80%|███████▉  | 51/64 [10:11<01:26,  6.63s/it]"
     ]
    },
    {
     "name": "stdout",
     "output_type": "stream",
     "text": [
      "failed\n",
      "CESM2-FV2\n",
      "r1i1p1f1\n"
     ]
    },
    {
     "name": "stderr",
     "output_type": "stream",
     "text": [
      "/home/users/a_duffey/.conda/envs/main/lib/python3.10/site-packages/xarray/conventions.py:516: SerializationWarning: variable 'hfss' has multiple fill values {1e+20, 1e+20}, decoding all values to NaN.\n",
      "  new_vars[k] = decode_cf_variable(\n",
      " 81%|████████▏ | 52/64 [10:16<01:13,  6.16s/it]"
     ]
    },
    {
     "name": "stdout",
     "output_type": "stream",
     "text": [
      "sea_ice done\n",
      "CESM2-WACCM\n",
      "r1i1p1f1\n"
     ]
    },
    {
     "name": "stderr",
     "output_type": "stream",
     "text": [
      "/home/users/a_duffey/.conda/envs/main/lib/python3.10/site-packages/xarray/conventions.py:516: SerializationWarning: variable 'hfss' has multiple fill values {1e+20, 1e+20}, decoding all values to NaN.\n",
      "  new_vars[k] = decode_cf_variable(\n",
      " 83%|████████▎ | 53/64 [10:18<00:51,  4.71s/it]"
     ]
    },
    {
     "name": "stdout",
     "output_type": "stream",
     "text": [
      "failed\n",
      "CESM2-WACCM-FV2\n",
      "r1i1p1f1\n"
     ]
    },
    {
     "name": "stderr",
     "output_type": "stream",
     "text": [
      "/home/users/a_duffey/.conda/envs/main/lib/python3.10/site-packages/xarray/conventions.py:516: SerializationWarning: variable 'hfss' has multiple fill values {1e+20, 1e+20}, decoding all values to NaN.\n",
      "  new_vars[k] = decode_cf_variable(\n",
      " 84%|████████▍ | 54/64 [10:23<00:49,  4.95s/it]"
     ]
    },
    {
     "name": "stdout",
     "output_type": "stream",
     "text": [
      "sea_ice done\n",
      "NorCPM1\n",
      "r1i1p1f1\n"
     ]
    },
    {
     "name": "stderr",
     "output_type": "stream",
     "text": [
      " 86%|████████▌ | 55/64 [10:33<00:56,  6.26s/it]"
     ]
    },
    {
     "name": "stdout",
     "output_type": "stream",
     "text": [
      "sea_ice done\n",
      "NorESM2-LM\n",
      "r1i1p1f1\n"
     ]
    },
    {
     "name": "stderr",
     "output_type": "stream",
     "text": [
      " 88%|████████▊ | 56/64 [10:45<01:05,  8.20s/it]"
     ]
    },
    {
     "name": "stdout",
     "output_type": "stream",
     "text": [
      "sea_ice done\n",
      "NorESM2-MM\n",
      "r1i1p1f1\n"
     ]
    },
    {
     "name": "stderr",
     "output_type": "stream",
     "text": [
      " 89%|████████▉ | 57/64 [11:01<01:13, 10.56s/it]"
     ]
    },
    {
     "name": "stdout",
     "output_type": "stream",
     "text": [
      "sea_ice done\n",
      "KACE-1-0-G\n",
      "r1i1p1f1\n"
     ]
    },
    {
     "name": "stderr",
     "output_type": "stream",
     "text": [
      " 91%|█████████ | 58/64 [11:02<00:46,  7.72s/it]"
     ]
    },
    {
     "name": "stdout",
     "output_type": "stream",
     "text": [
      "failed\n",
      "GFDL-CM4\n",
      "r1i1p1f1\n"
     ]
    },
    {
     "name": "stderr",
     "output_type": "stream",
     "text": [
      " 92%|█████████▏| 59/64 [11:09<00:37,  7.45s/it]"
     ]
    },
    {
     "name": "stdout",
     "output_type": "stream",
     "text": [
      "sea_ice done\n",
      "GFDL-ESM4\n",
      "r1i1p1f1\n"
     ]
    },
    {
     "name": "stderr",
     "output_type": "stream",
     "text": [
      " 94%|█████████▍| 60/64 [11:11<00:23,  5.86s/it]"
     ]
    },
    {
     "name": "stdout",
     "output_type": "stream",
     "text": [
      "failed\n",
      "NESM3\n",
      "r1i1p1f1\n"
     ]
    },
    {
     "name": "stderr",
     "output_type": "stream",
     "text": [
      " 95%|█████████▌| 61/64 [11:15<00:15,  5.20s/it]"
     ]
    },
    {
     "name": "stdout",
     "output_type": "stream",
     "text": [
      "sea_ice done\n",
      "SAM0-UNICON\n",
      "r1i1p1f1\n"
     ]
    },
    {
     "name": "stderr",
     "output_type": "stream",
     "text": [
      " 97%|█████████▋| 62/64 [11:32<00:17,  8.70s/it]"
     ]
    },
    {
     "name": "stdout",
     "output_type": "stream",
     "text": [
      "sea_ice done\n",
      "CIESM\n",
      "r1i1p1f1\n"
     ]
    },
    {
     "name": "stderr",
     "output_type": "stream",
     "text": [
      " 98%|█████████▊| 63/64 [11:42<00:09,  9.02s/it]"
     ]
    },
    {
     "name": "stdout",
     "output_type": "stream",
     "text": [
      "sea_ice done\n",
      "MCM-UA-1-0\n",
      "r1i1p1f1\n"
     ]
    },
    {
     "name": "stderr",
     "output_type": "stream",
     "text": [
      "100%|██████████| 64/64 [11:43<00:00, 10.99s/it]"
     ]
    },
    {
     "name": "stdout",
     "output_type": "stream",
     "text": [
      "failed\n"
     ]
    },
    {
     "name": "stderr",
     "output_type": "stream",
     "text": [
      "\n"
     ]
    }
   ],
   "source": [
    "### surface upward sensible heat flux processing\n",
    "\n",
    "### make a list of models:\n",
    "dirs=[]\n",
    "for x in glob.glob('/badc/cmip6/data/CMIP6/CMIP/*/*/historical/*/Amon/hfss/*/latest/'): \n",
    "    dirs.append(x)\n",
    "\n",
    "models = []\n",
    "for x in dirs:\n",
    "    model = x.split('/')[7]\n",
    "    if model not in models:\n",
    "        models.append(model)\n",
    "\n",
    "\n",
    "### now run over all models\n",
    "vars = ['hfss']\n",
    "\n",
    "for model in tqdm(models):\n",
    "    print(model)\n",
    "    ens_mems_long = os.listdir(glob.glob('/badc/cmip6/data/CMIP6/*/*/{m}/historical/'.format(m=model))[0])\n",
    "    ens_mems = sorted([idx for idx in ens_mems_long if idx[0].lower() == 'r'.lower()], key=len)\n",
    "    #DF_multi_ens = pd.DataFrame()\n",
    "    for ens_mem in ens_mems[0:1]:\n",
    "        print(ens_mem)\n",
    "        try:\n",
    "            paths = []\n",
    "            for var in vars:\n",
    "                folder = glob.glob('/badc/cmip6/data/CMIP6/*/*/{m}/historical/{ens}/Amon/{v}/*/latest/'.format(\n",
    "                                        m=model, ens=ens_mem, v=var))[0]\n",
    "                paths.append(folder)\n",
    "            dirs = dict(zip(vars, paths))\n",
    "        \n",
    "            ### select processing function from options below:\n",
    "            process_hfss(dirs=dirs, region='sea_ice', mod=model, ens=ens_mem)\n",
    "            \n",
    "        except: \n",
    "            print('failed')"
   ]
  },
  {
   "cell_type": "code",
   "execution_count": null,
   "id": "2216de02-5830-44e7-a1a3-9cd994d50b3e",
   "metadata": {},
   "outputs": [],
   "source": []
  },
  {
   "cell_type": "code",
   "execution_count": null,
   "id": "6f4b3366-0eb2-4da3-a068-c098b7e8ad62",
   "metadata": {},
   "outputs": [
    {
     "name": "stderr",
     "output_type": "stream",
     "text": [
      "  0%|          | 0/56 [00:00<?, ?it/s]"
     ]
    },
    {
     "name": "stdout",
     "output_type": "stream",
     "text": [
      "TaiESM1\n",
      "r1i1p1f1\n"
     ]
    },
    {
     "name": "stderr",
     "output_type": "stream",
     "text": [
      "  2%|▏         | 1/56 [00:06<05:40,  6.19s/it]"
     ]
    },
    {
     "name": "stdout",
     "output_type": "stream",
     "text": [
      "sea_ice done\n",
      "AWI-CM-1-1-MR\n",
      "r1i1p1f1\n"
     ]
    },
    {
     "name": "stderr",
     "output_type": "stream",
     "text": [
      "  4%|▎         | 2/56 [00:59<30:40, 34.08s/it]"
     ]
    },
    {
     "name": "stdout",
     "output_type": "stream",
     "text": [
      "failed\n",
      "AWI-ESM-1-1-LR\n",
      "r1i1p1f1\n"
     ]
    },
    {
     "name": "stderr",
     "output_type": "stream",
     "text": [
      "  5%|▌         | 3/56 [02:04<42:37, 48.25s/it]"
     ]
    },
    {
     "name": "stdout",
     "output_type": "stream",
     "text": [
      "failed\n",
      "BCC-CSM2-MR\n",
      "r1i1p1f1\n"
     ]
    },
    {
     "name": "stderr",
     "output_type": "stream",
     "text": [
      "  7%|▋         | 4/56 [02:13<28:10, 32.50s/it]"
     ]
    },
    {
     "name": "stdout",
     "output_type": "stream",
     "text": [
      "sea_ice done\n",
      "BCC-ESM1\n",
      "r1i1p1f1\n"
     ]
    },
    {
     "name": "stderr",
     "output_type": "stream",
     "text": [
      "  9%|▉         | 5/56 [02:17<18:50, 22.17s/it]"
     ]
    },
    {
     "name": "stdout",
     "output_type": "stream",
     "text": [
      "sea_ice done\n",
      "CAMS-CSM1-0\n",
      "r1i1p1f1\n"
     ]
    },
    {
     "name": "stderr",
     "output_type": "stream",
     "text": [
      " 11%|█         | 6/56 [02:25<14:37, 17.56s/it]"
     ]
    },
    {
     "name": "stdout",
     "output_type": "stream",
     "text": [
      "sea_ice done\n",
      "CAS-ESM2-0\n",
      "r1i1p1f1\n"
     ]
    },
    {
     "name": "stderr",
     "output_type": "stream",
     "text": [
      "/home/users/a_duffey/.conda/envs/main/lib/python3.10/site-packages/dask/core.py:119: RuntimeWarning: divide by zero encountered in true_divide\n",
      "  return func(*(_execute_task(a, cache) for a in args))\n",
      " 12%|█▎        | 7/56 [02:30<10:57, 13.41s/it]"
     ]
    },
    {
     "name": "stdout",
     "output_type": "stream",
     "text": [
      "sea_ice done\n",
      "FGOALS-f3-L\n",
      "r1i1p1f1\n"
     ]
    },
    {
     "name": "stderr",
     "output_type": "stream",
     "text": [
      " 14%|█▍        | 8/56 [02:34<08:21, 10.44s/it]"
     ]
    },
    {
     "name": "stdout",
     "output_type": "stream",
     "text": [
      "failed\n",
      "FGOALS-g3\n",
      "r1i1p1f1\n"
     ]
    },
    {
     "name": "stderr",
     "output_type": "stream",
     "text": [
      " 16%|█▌        | 9/56 [02:44<07:55, 10.12s/it]"
     ]
    },
    {
     "name": "stdout",
     "output_type": "stream",
     "text": [
      "sea_ice done\n",
      "IITM-ESM\n",
      "r1i1p1f1\n"
     ]
    },
    {
     "name": "stderr",
     "output_type": "stream",
     "text": [
      " 18%|█▊        | 10/56 [02:48<06:27,  8.42s/it]"
     ]
    },
    {
     "name": "stdout",
     "output_type": "stream",
     "text": [
      "failed\n",
      "CanESM5\n",
      "r1i1p1f1\n"
     ]
    },
    {
     "name": "stderr",
     "output_type": "stream",
     "text": [
      " 20%|█▉        | 11/56 [02:51<04:55,  6.58s/it]"
     ]
    },
    {
     "name": "stdout",
     "output_type": "stream",
     "text": [
      "sea_ice done\n",
      "CanESM5-CanOE\n",
      "r1i1p2f1\n"
     ]
    },
    {
     "name": "stderr",
     "output_type": "stream",
     "text": [
      " 21%|██▏       | 12/56 [02:53<03:59,  5.44s/it]"
     ]
    },
    {
     "name": "stdout",
     "output_type": "stream",
     "text": [
      "sea_ice done\n",
      "CMCC-CM2-HR4\n",
      "r1i1p1f1\n"
     ]
    },
    {
     "name": "stderr",
     "output_type": "stream",
     "text": [
      " 23%|██▎       | 13/56 [03:00<04:06,  5.73s/it]"
     ]
    },
    {
     "name": "stdout",
     "output_type": "stream",
     "text": [
      "sea_ice done\n",
      "CMCC-CM2-SR5\n",
      "r1i1p1f1\n"
     ]
    },
    {
     "name": "stderr",
     "output_type": "stream",
     "text": [
      " 25%|██▌       | 14/56 [03:05<03:54,  5.59s/it]"
     ]
    },
    {
     "name": "stdout",
     "output_type": "stream",
     "text": [
      "sea_ice done\n",
      "CMCC-ESM2\n",
      "r1i1p1f1\n"
     ]
    },
    {
     "name": "stderr",
     "output_type": "stream",
     "text": [
      " 27%|██▋       | 15/56 [03:10<03:42,  5.42s/it]"
     ]
    },
    {
     "name": "stdout",
     "output_type": "stream",
     "text": [
      "sea_ice done\n",
      "CNRM-CM6-1\n",
      "r1i1p1f2\n"
     ]
    },
    {
     "name": "stderr",
     "output_type": "stream",
     "text": [
      " 29%|██▊       | 16/56 [03:15<03:24,  5.12s/it]"
     ]
    },
    {
     "name": "stdout",
     "output_type": "stream",
     "text": [
      "sea_ice done\n",
      "CNRM-CM6-1-HR\n",
      "r1i1p1f2\n"
     ]
    },
    {
     "name": "stderr",
     "output_type": "stream",
     "text": [
      " 30%|███       | 17/56 [03:17<02:49,  4.36s/it]"
     ]
    },
    {
     "name": "stdout",
     "output_type": "stream",
     "text": [
      "failed\n",
      "CNRM-ESM2-1\n",
      "r1i1p1f2\n"
     ]
    },
    {
     "name": "stderr",
     "output_type": "stream",
     "text": [
      " 32%|███▏      | 18/56 [03:22<02:51,  4.52s/it]"
     ]
    },
    {
     "name": "stdout",
     "output_type": "stream",
     "text": [
      "sea_ice done\n",
      "ACCESS-ESM1-5\n",
      "r1i1p1f1\n"
     ]
    },
    {
     "name": "stderr",
     "output_type": "stream",
     "text": [
      " 34%|███▍      | 19/56 [03:28<02:59,  4.86s/it]"
     ]
    },
    {
     "name": "stdout",
     "output_type": "stream",
     "text": [
      "sea_ice done\n",
      "ACCESS-CM2\n",
      "r1i1p1f1\n"
     ]
    },
    {
     "name": "stderr",
     "output_type": "stream",
     "text": [
      " 36%|███▌      | 20/56 [03:32<02:50,  4.74s/it]"
     ]
    },
    {
     "name": "stdout",
     "output_type": "stream",
     "text": [
      "sea_ice done\n",
      "E3SM-1-0\n",
      "r1i1p1f1\n"
     ]
    },
    {
     "name": "stderr",
     "output_type": "stream",
     "text": [
      " 38%|███▊      | 21/56 [03:53<05:35,  9.59s/it]"
     ]
    },
    {
     "name": "stdout",
     "output_type": "stream",
     "text": [
      "sea_ice done\n",
      "E3SM-1-1\n",
      "r1i1p1f1\n"
     ]
    },
    {
     "name": "stderr",
     "output_type": "stream",
     "text": [
      " 39%|███▉      | 22/56 [04:18<08:02, 14.19s/it]"
     ]
    },
    {
     "name": "stdout",
     "output_type": "stream",
     "text": [
      "sea_ice done\n",
      "E3SM-1-1-ECA\n",
      "r1i1p1f1\n"
     ]
    },
    {
     "name": "stderr",
     "output_type": "stream",
     "text": [
      " 41%|████      | 23/56 [04:36<08:28, 15.42s/it]"
     ]
    },
    {
     "name": "stdout",
     "output_type": "stream",
     "text": [
      "sea_ice done\n",
      "EC-Earth3\n",
      "r1i1p1f1\n"
     ]
    },
    {
     "name": "stderr",
     "output_type": "stream",
     "text": [
      " 43%|████▎     | 24/56 [06:19<22:07, 41.47s/it]"
     ]
    },
    {
     "name": "stdout",
     "output_type": "stream",
     "text": [
      "sea_ice done\n",
      "EC-Earth3-AerChem\n",
      "r1i1p1f1\n"
     ]
    },
    {
     "name": "stderr",
     "output_type": "stream",
     "text": [
      " 45%|████▍     | 25/56 [07:34<26:38, 51.58s/it]"
     ]
    },
    {
     "name": "stdout",
     "output_type": "stream",
     "text": [
      "sea_ice done\n",
      "EC-Earth3-CC\n",
      "r1i1p1f1\n"
     ]
    },
    {
     "name": "stderr",
     "output_type": "stream",
     "text": [
      " 46%|████▋     | 26/56 [08:52<29:48, 59.62s/it]"
     ]
    },
    {
     "name": "stdout",
     "output_type": "stream",
     "text": [
      "sea_ice done\n",
      "EC-Earth3-Veg\n",
      "r1i1p1f1\n"
     ]
    },
    {
     "name": "stderr",
     "output_type": "stream",
     "text": [
      " 48%|████▊     | 27/56 [10:13<31:55, 66.04s/it]"
     ]
    },
    {
     "name": "stdout",
     "output_type": "stream",
     "text": [
      "sea_ice done\n",
      "EC-Earth3-Veg-LR\n",
      "r1i1p1f1\n"
     ]
    },
    {
     "name": "stderr",
     "output_type": "stream",
     "text": [
      " 50%|█████     | 28/56 [11:22<31:10, 66.81s/it]"
     ]
    },
    {
     "name": "stdout",
     "output_type": "stream",
     "text": [
      "sea_ice done\n",
      "FIO-ESM-2-0\n",
      "r1i1p1f1\n"
     ]
    },
    {
     "name": "stderr",
     "output_type": "stream",
     "text": [
      " 52%|█████▏    | 29/56 [11:28<21:52, 48.62s/it]"
     ]
    },
    {
     "name": "stdout",
     "output_type": "stream",
     "text": [
      "sea_ice done\n",
      "MPI-ESM-1-2-HAM\n",
      "r1i1p1f1\n"
     ]
    },
    {
     "name": "stderr",
     "output_type": "stream",
     "text": [
      " 54%|█████▎    | 30/56 [11:35<15:38, 36.10s/it]"
     ]
    },
    {
     "name": "stdout",
     "output_type": "stream",
     "text": [
      "sea_ice done\n",
      "INM-CM4-8\n",
      "r1i1p1f1\n"
     ]
    },
    {
     "name": "stderr",
     "output_type": "stream",
     "text": [
      " 55%|█████▌    | 31/56 [11:40<11:13, 26.94s/it]"
     ]
    },
    {
     "name": "stdout",
     "output_type": "stream",
     "text": [
      "sea_ice done\n",
      "INM-CM5-0\n",
      "r1i1p1f1\n"
     ]
    },
    {
     "name": "stderr",
     "output_type": "stream",
     "text": [
      " 59%|█████▉    | 33/56 [11:45<05:26, 14.19s/it]"
     ]
    },
    {
     "name": "stdout",
     "output_type": "stream",
     "text": [
      "sea_ice done\n",
      "IPSL-CM5A2-INCA\n",
      "r1i1p1f1\n",
      "failed\n",
      "IPSL-CM6A-LR\n",
      "r1i1p1f1\n"
     ]
    },
    {
     "name": "stderr",
     "output_type": "stream",
     "text": [
      "/home/users/a_duffey/.conda/envs/main/lib/python3.10/site-packages/xesmf/smm.py:130: UserWarning: Input array is not C_CONTIGUOUS. Will affect performance.\n",
      "  warnings.warn('Input array is not C_CONTIGUOUS. ' 'Will affect performance.')\n",
      " 61%|██████    | 34/56 [11:49<04:03, 11.06s/it]"
     ]
    },
    {
     "name": "stdout",
     "output_type": "stream",
     "text": [
      "sea_ice done\n",
      "KIOST-ESM\n",
      "r1i1p1f1\n"
     ]
    },
    {
     "name": "stderr",
     "output_type": "stream",
     "text": [
      " 62%|██████▎   | 35/56 [11:53<03:11,  9.11s/it]"
     ]
    },
    {
     "name": "stdout",
     "output_type": "stream",
     "text": [
      "sea_ice done\n",
      "MIROC-ES2H\n",
      "r1i1p1f2\n"
     ]
    },
    {
     "name": "stderr",
     "output_type": "stream",
     "text": [
      " 64%|██████▍   | 36/56 [11:54<02:12,  6.60s/it]"
     ]
    },
    {
     "name": "stdout",
     "output_type": "stream",
     "text": [
      "failed\n",
      "MIROC-ES2L\n",
      "r1i1p1f2\n"
     ]
    },
    {
     "name": "stderr",
     "output_type": "stream",
     "text": [
      " 66%|██████▌   | 37/56 [11:55<01:36,  5.06s/it]"
     ]
    },
    {
     "name": "stdout",
     "output_type": "stream",
     "text": [
      "failed\n",
      "MIROC6\n",
      "r1i1p1f1\n"
     ]
    },
    {
     "name": "stderr",
     "output_type": "stream",
     "text": [
      " 68%|██████▊   | 38/56 [12:01<01:34,  5.27s/it]"
     ]
    },
    {
     "name": "stdout",
     "output_type": "stream",
     "text": [
      "sea_ice done\n",
      "HadGEM3-GC31-LL\n",
      "r1i1p1f3\n"
     ]
    },
    {
     "name": "stderr",
     "output_type": "stream",
     "text": [
      " 70%|██████▉   | 39/56 [12:06<01:25,  5.03s/it]"
     ]
    },
    {
     "name": "stdout",
     "output_type": "stream",
     "text": [
      "sea_ice done\n",
      "HadGEM3-GC31-MM\n",
      "r1i1p1f3\n"
     ]
    },
    {
     "name": "stderr",
     "output_type": "stream",
     "text": [
      " 71%|███████▏  | 40/56 [12:22<02:16,  8.56s/it]"
     ]
    },
    {
     "name": "stdout",
     "output_type": "stream",
     "text": [
      "sea_ice done\n",
      "UKESM1-0-LL\n",
      "r1i1p1f2\n"
     ]
    },
    {
     "name": "stderr",
     "output_type": "stream",
     "text": [
      " 73%|███████▎  | 41/56 [12:28<01:54,  7.63s/it]"
     ]
    },
    {
     "name": "stdout",
     "output_type": "stream",
     "text": [
      "sea_ice done\n",
      "MPI-ESM1-2-HR\n",
      "r1i1p1f1\n"
     ]
    },
    {
     "name": "stderr",
     "output_type": "stream",
     "text": [
      " 75%|███████▌  | 42/56 [12:51<02:50, 12.16s/it]"
     ]
    },
    {
     "name": "stdout",
     "output_type": "stream",
     "text": [
      "sea_ice done\n",
      "MPI-ESM1-2-LR\n",
      "r1i1p1f1\n"
     ]
    },
    {
     "name": "stderr",
     "output_type": "stream",
     "text": [
      " 77%|███████▋  | 43/56 [12:59<02:23, 11.01s/it]"
     ]
    },
    {
     "name": "stdout",
     "output_type": "stream",
     "text": [
      "sea_ice done\n",
      "MRI-ESM2-0\n",
      "r1i1p1f1\n"
     ]
    },
    {
     "name": "stderr",
     "output_type": "stream",
     "text": [
      " 79%|███████▊  | 44/56 [13:05<01:53,  9.42s/it]"
     ]
    },
    {
     "name": "stdout",
     "output_type": "stream",
     "text": [
      "sea_ice done\n",
      "GISS-E2-1-G\n",
      "r1i1p1f1\n"
     ]
    },
    {
     "name": "stderr",
     "output_type": "stream",
     "text": [
      " 80%|████████  | 45/56 [13:08<01:24,  7.69s/it]"
     ]
    },
    {
     "name": "stdout",
     "output_type": "stream",
     "text": [
      "failed\n",
      "GISS-E2-1-H\n",
      "r1i1p1f1\n"
     ]
    },
    {
     "name": "stderr",
     "output_type": "stream",
     "text": [
      " 82%|████████▏ | 46/56 [13:13<01:06,  6.64s/it]"
     ]
    },
    {
     "name": "stdout",
     "output_type": "stream",
     "text": [
      "failed\n",
      "CESM2\n",
      "r1i1p1f1\n"
     ]
    },
    {
     "name": "stderr",
     "output_type": "stream",
     "text": [
      "/home/users/a_duffey/.conda/envs/main/lib/python3.10/site-packages/xarray/conventions.py:516: SerializationWarning: variable 'hfss' has multiple fill values {1e+20, 1e+20}, decoding all values to NaN.\n",
      "  new_vars[k] = decode_cf_variable(\n",
      "/home/users/a_duffey/.conda/envs/main/lib/python3.10/site-packages/xarray/conventions.py:516: SerializationWarning: variable 'sfcWind' has multiple fill values {1e+20, 1e+20}, decoding all values to NaN.\n",
      "  new_vars[k] = decode_cf_variable(\n",
      " 84%|████████▍ | 47/56 [13:15<00:49,  5.47s/it]"
     ]
    },
    {
     "name": "stdout",
     "output_type": "stream",
     "text": [
      "failed\n",
      "CESM2-FV2\n",
      "r1i1p1f1\n"
     ]
    },
    {
     "name": "stderr",
     "output_type": "stream",
     "text": [
      "/home/users/a_duffey/.conda/envs/main/lib/python3.10/site-packages/xarray/conventions.py:516: SerializationWarning: variable 'hfss' has multiple fill values {1e+20, 1e+20}, decoding all values to NaN.\n",
      "  new_vars[k] = decode_cf_variable(\n",
      "/home/users/a_duffey/.conda/envs/main/lib/python3.10/site-packages/xarray/conventions.py:516: SerializationWarning: variable 'sfcWind' has multiple fill values {1e+20, 1e+20}, decoding all values to NaN.\n",
      "  new_vars[k] = decode_cf_variable(\n",
      " 86%|████████▌ | 48/56 [13:21<00:43,  5.47s/it]"
     ]
    },
    {
     "name": "stdout",
     "output_type": "stream",
     "text": [
      "sea_ice done\n",
      "CESM2-WACCM\n",
      "r1i1p1f1\n"
     ]
    },
    {
     "name": "stderr",
     "output_type": "stream",
     "text": [
      "/home/users/a_duffey/.conda/envs/main/lib/python3.10/site-packages/xarray/conventions.py:516: SerializationWarning: variable 'hfss' has multiple fill values {1e+20, 1e+20}, decoding all values to NaN.\n",
      "  new_vars[k] = decode_cf_variable(\n",
      "/home/users/a_duffey/.conda/envs/main/lib/python3.10/site-packages/xarray/conventions.py:516: SerializationWarning: variable 'sfcWind' has multiple fill values {1e+20, 1e+20}, decoding all values to NaN.\n",
      "  new_vars[k] = decode_cf_variable(\n",
      " 88%|████████▊ | 49/56 [13:23<00:31,  4.50s/it]"
     ]
    },
    {
     "name": "stdout",
     "output_type": "stream",
     "text": [
      "failed\n",
      "CESM2-WACCM-FV2\n",
      "r1i1p1f1\n"
     ]
    },
    {
     "name": "stderr",
     "output_type": "stream",
     "text": [
      "/home/users/a_duffey/.conda/envs/main/lib/python3.10/site-packages/xarray/conventions.py:516: SerializationWarning: variable 'hfss' has multiple fill values {1e+20, 1e+20}, decoding all values to NaN.\n",
      "  new_vars[k] = decode_cf_variable(\n",
      "/home/users/a_duffey/.conda/envs/main/lib/python3.10/site-packages/xarray/conventions.py:516: SerializationWarning: variable 'sfcWind' has multiple fill values {1e+20, 1e+20}, decoding all values to NaN.\n",
      "  new_vars[k] = decode_cf_variable(\n",
      " 89%|████████▉ | 50/56 [13:27<00:26,  4.49s/it]"
     ]
    },
    {
     "name": "stdout",
     "output_type": "stream",
     "text": [
      "sea_ice done\n",
      "NorESM2-LM\n",
      "r1i1p1f1\n"
     ]
    },
    {
     "name": "stderr",
     "output_type": "stream",
     "text": [
      " 91%|█████████ | 51/56 [13:37<00:30,  6.09s/it]"
     ]
    },
    {
     "name": "stdout",
     "output_type": "stream",
     "text": [
      "sea_ice done\n",
      "NorESM2-MM\n",
      "r1i1p1f1\n"
     ]
    },
    {
     "name": "stderr",
     "output_type": "stream",
     "text": [
      " 93%|█████████▎| 52/56 [13:50<00:32,  8.19s/it]"
     ]
    },
    {
     "name": "stdout",
     "output_type": "stream",
     "text": [
      "sea_ice done\n",
      "KACE-1-0-G\n",
      "r1i1p1f1\n"
     ]
    },
    {
     "name": "stderr",
     "output_type": "stream",
     "text": [
      " 95%|█████████▍| 53/56 [13:52<00:18,  6.07s/it]"
     ]
    },
    {
     "name": "stdout",
     "output_type": "stream",
     "text": [
      "failed\n",
      "GFDL-CM4\n",
      "r1i1p1f1\n"
     ]
    },
    {
     "name": "stderr",
     "output_type": "stream",
     "text": [
      " 96%|█████████▋| 54/56 [13:58<00:12,  6.28s/it]"
     ]
    },
    {
     "name": "stdout",
     "output_type": "stream",
     "text": [
      "sea_ice done\n",
      "GFDL-ESM4\n",
      "r1i1p1f1\n"
     ]
    },
    {
     "name": "stderr",
     "output_type": "stream",
     "text": [
      " 98%|█████████▊| 55/56 [14:01<00:05,  5.19s/it]"
     ]
    },
    {
     "name": "stdout",
     "output_type": "stream",
     "text": [
      "failed\n",
      "SAM0-UNICON\n",
      "r1i1p1f1\n"
     ]
    }
   ],
   "source": [
    "### wind scaled surface upward sensible heat flux processing\n",
    "\n",
    "### make a list of models:\n",
    "dirs=[]\n",
    "for x in glob.glob('/badc/cmip6/data/CMIP6/CMIP/*/*/historical/*/Amon/sfcWind/*/latest/'): \n",
    "    dirs.append(x)\n",
    "\n",
    "models = []\n",
    "for x in dirs:\n",
    "    model = x.split('/')[7]\n",
    "    if model not in models:\n",
    "        models.append(model)\n",
    "\n",
    "\n",
    "### now run over all models\n",
    "vars = ['hfss', 'sfcWind']\n",
    "\n",
    "for model in tqdm(models):\n",
    "    print(model)\n",
    "    ens_mems_long = os.listdir(glob.glob('/badc/cmip6/data/CMIP6/*/*/{m}/historical/'.format(m=model))[0])\n",
    "    ens_mems = sorted([idx for idx in ens_mems_long if idx[0].lower() == 'r'.lower()], key=len)\n",
    "    #DF_multi_ens = pd.DataFrame()\n",
    "    for ens_mem in ens_mems[0:1]:\n",
    "        print(ens_mem)\n",
    "        try:\n",
    "            paths = []\n",
    "            for var in vars:\n",
    "                folder = glob.glob('/badc/cmip6/data/CMIP6/*/*/{m}/historical/{ens}/Amon/{v}/*/latest/'.format(\n",
    "                                        m=model, ens=ens_mem, v=var))[0]\n",
    "                paths.append(folder)\n",
    "            dirs = dict(zip(vars, paths))\n",
    "        \n",
    "            ### select processing function from options below:\n",
    "            process_hfss_div_sfcWind(dirs=dirs, region='sea_ice', mod=model, ens=ens_mem)\n",
    "            \n",
    "        except: \n",
    "            print('failed')"
   ]
  },
  {
   "cell_type": "code",
   "execution_count": null,
   "id": "400007dd-00ea-4e75-977d-640a7413bd6a",
   "metadata": {},
   "outputs": [],
   "source": []
  },
  {
   "cell_type": "code",
   "execution_count": null,
   "id": "e9f5836d-b6cf-4234-b11b-5ab88ea1079f",
   "metadata": {},
   "outputs": [],
   "source": []
  },
  {
   "cell_type": "code",
   "execution_count": null,
   "id": "8e75fbfa-33b3-4335-bfd6-d1d4858823ae",
   "metadata": {},
   "outputs": [],
   "source": []
  },
  {
   "cell_type": "code",
   "execution_count": null,
   "id": "a13710fa-20fb-4275-8dc6-8c6e0ee65bd7",
   "metadata": {},
   "outputs": [],
   "source": []
  },
  {
   "cell_type": "code",
   "execution_count": 16,
   "id": "81696186-0efc-42ce-bbc5-e879257c3788",
   "metadata": {},
   "outputs": [
    {
     "data": {
      "text/plain": [
       "{'ta': ['/badc/cmip6/data/CMIP6/CMIP/AS-RCEC/TaiESM1/historical/r1i1p1f1/Amon/ta/gn/latest/'],\n",
       " 'tas': ['/badc/cmip6/data/CMIP6/CMIP/AS-RCEC/TaiESM1/historical/r1i1p1f1/Amon/tas/gn/latest/'],\n",
       " 'clivi': ['/badc/cmip6/data/CMIP6/CMIP/AS-RCEC/TaiESM1/historical/r1i1p1f1/Amon/clivi/gn/latest/'],\n",
       " 'clwvi': ['/badc/cmip6/data/CMIP6/CMIP/AS-RCEC/TaiESM1/historical/r1i1p1f1/Amon/clwvi/gn/latest/']}"
      ]
     },
     "execution_count": 16,
     "metadata": {},
     "output_type": "execute_result"
    }
   ],
   "source": [
    "dirs"
   ]
  },
  {
   "cell_type": "code",
   "execution_count": null,
   "id": "2a14c745-114d-4ff2-836b-15cbc307aa34",
   "metadata": {},
   "outputs": [],
   "source": []
  },
  {
   "cell_type": "code",
   "execution_count": 3,
   "id": "e6df7898-f36d-43ce-aa88-f26f9ba55c76",
   "metadata": {},
   "outputs": [
    {
     "data": {
      "text/plain": [
       "[]"
      ]
     },
     "execution_count": 3,
     "metadata": {},
     "output_type": "execute_result"
    }
   ],
   "source": [
    "dirs=[]\n",
    "for x in glob.glob('/badc/cmip6/data/CMIP6/*/*/*/historical/*/*/tslsi/*/*/'): \n",
    "    dirs.append(x)\n",
    "\n",
    "dirs\n"
   ]
  },
  {
   "cell_type": "code",
   "execution_count": 5,
   "id": "543cffa9-7295-40eb-820c-cb435419db99",
   "metadata": {
    "tags": []
   },
   "outputs": [],
   "source": [
    "dirs=[]\n",
    "for x in glob.glob('/badc/cmip6/data/CMIP6/*/*/*/historical/*/*/ts/*/*/'): \n",
    "    dirs.append(x)\n",
    "\n",
    "#dirs\n"
   ]
  },
  {
   "cell_type": "code",
   "execution_count": 18,
   "id": "b55f39df-224d-4616-afb6-cc7351307943",
   "metadata": {},
   "outputs": [
    {
     "data": {
      "text/plain": [
       "<matplotlib.collections.QuadMesh at 0x7fbb6befa620>"
      ]
     },
     "execution_count": 18,
     "metadata": {},
     "output_type": "execute_result"
    },
    {
     "data": {
      "image/png": "[encoded data removed]",
      "text/plain": [
       "<Figure size 432x288 with 2 Axes>"
      ]
     },
     "metadata": {
      "needs_background": "light"
     },
     "output_type": "display_data"
    }
   ],
   "source": [
    "### test reading in and masking on monthly tas \n",
    "dir = '/badc/cmip6/data/CMIP6/CMIP/E3SM-Project/E3SM-1-0/historical/r1i1p1f1/Amon/ta/gr/latest/'\n",
    "mod = 'E3SM-1-0'\n",
    "ens = 'r1i1p1f1'\n",
    "\n",
    "f = read_in(dir, t_bnds=inversion_time_period, months=winter_months, plev=True)\n",
    "\n",
    "f = sea_ice_mask(f, mod, ens, \n",
    "                 t_bnds=inversion_time_period, \n",
    "                 months=winter_months, reverse=True)\n",
    "\n",
    "f.isel(time=13).ta.plot()"
   ]
  },
  {
   "cell_type": "code",
   "execution_count": 2,
   "id": "23282688-1660-43a4-aef7-3ca266935695",
   "metadata": {},
   "outputs": [
    {
     "name": "stdout",
     "output_type": "stream",
     "text": [
      "71\n",
      "71\n"
     ]
    }
   ],
   "source": [
    "### cell makes a dataframe containing paths to air temp data (below is just 1st ens mem)\n",
    "\n",
    "exps = [\"historical\"]\n",
    "#exps = ['ssp245']\n",
    "#exps = ['ssp126']\n",
    "dirs = []\n",
    "var_path = \"Amon/ta\"\n",
    "#var_path = \"SImon/siconca\"\n",
    "for experiment in exps:\n",
    "    if experiment == \"historical\":\n",
    "        exp_set = \"CMIP\"\n",
    "    else:\n",
    "        exp_set = \"ScenarioMIP\"\n",
    "    for x in glob.glob('/badc/cmip6/data/CMIP6/{es}/*/*/{e}/r1i*/{v}/*/latest/'.format(es=exp_set, e=experiment, v=var_path)):\n",
    "        dirs.append(x)\n",
    "model = []\n",
    "ensemble_member = []\n",
    "for dir in dirs:\n",
    "    model.append(dir.split('/')[7])\n",
    "    ensemble_member.append(dir.split('/')[9])\n",
    "#dirs.reverse()\n",
    "print(len(dirs))\n",
    "df = pd.DataFrame({'ta_dirs': dirs, \n",
    "                   'Model': model,\n",
    "                   'Ensemble_member': ensemble_member})\n",
    "df['tas_dirs'] = df['ta_dirs'].str.replace('Amon/ta', 'Amon/tas')\n",
    "for dir in df['tas_dirs']:\n",
    "    if not os.path.isdir(dir):\n",
    "        print('no tas path: {}'.format(dir))\n",
    "\n",
    "\n",
    "rows_to_drop = []\n",
    "for ind in df.index:\n",
    "    dir = df['tas_dirs'][ind]\n",
    "    if not os.path.isdir(dir):\n",
    "        rows_to_drop.append(ind)\n",
    "\n",
    "df.drop(rows_to_drop, axis=0, inplace=True)\n",
    "df.reset_index(drop=True, inplace=True)  \n",
    "\n",
    "#check for any remaning errors:\n",
    "for dir in df['tas_dirs']:\n",
    "    if not os.path.isdir(dir):\n",
    "        print('drop failed, error on: {}'.format(dir))\n",
    "\n",
    "print(len(df))"
   ]
  },
  {
   "cell_type": "code",
   "execution_count": 4,
   "id": "968058b4-1172-47a0-8463-760f6f30a4c2",
   "metadata": {},
   "outputs": [
    {
     "data": {
      "text/html": [
       "<div>\n",
       "<style scoped>\n",
       "    .dataframe tbody tr th:only-of-type {\n",
       "        vertical-align: middle;\n",
       "    }\n",
       "\n",
       "    .dataframe tbody tr th {\n",
       "        vertical-align: top;\n",
       "    }\n",
       "\n",
       "    .dataframe thead th {\n",
       "        text-align: right;\n",
       "    }\n",
       "</style>\n",
       "<table border=\"1\" class=\"dataframe\">\n",
       "  <thead>\n",
       "    <tr style=\"text-align: right;\">\n",
       "      <th></th>\n",
       "      <th>ta_dirs</th>\n",
       "      <th>Model</th>\n",
       "      <th>Ensemble_member</th>\n",
       "      <th>tas_dirs</th>\n",
       "    </tr>\n",
       "  </thead>\n",
       "  <tbody>\n",
       "    <tr>\n",
       "      <th>0</th>\n",
       "      <td>/badc/cmip6/data/CMIP6/CMIP/AS-RCEC/TaiESM1/hi...</td>\n",
       "      <td>TaiESM1</td>\n",
       "      <td>r1i1p1f1</td>\n",
       "      <td>/badc/cmip6/data/CMIP6/CMIP/AS-RCEC/TaiESM1/hi...</td>\n",
       "    </tr>\n",
       "    <tr>\n",
       "      <th>1</th>\n",
       "      <td>/badc/cmip6/data/CMIP6/CMIP/AWI/AWI-CM-1-1-MR/...</td>\n",
       "      <td>AWI-CM-1-1-MR</td>\n",
       "      <td>r1i1p1f1</td>\n",
       "      <td>/badc/cmip6/data/CMIP6/CMIP/AWI/AWI-CM-1-1-MR/...</td>\n",
       "    </tr>\n",
       "    <tr>\n",
       "      <th>2</th>\n",
       "      <td>/badc/cmip6/data/CMIP6/CMIP/AWI/AWI-ESM-1-1-LR...</td>\n",
       "      <td>AWI-ESM-1-1-LR</td>\n",
       "      <td>r1i1p1f1</td>\n",
       "      <td>/badc/cmip6/data/CMIP6/CMIP/AWI/AWI-ESM-1-1-LR...</td>\n",
       "    </tr>\n",
       "    <tr>\n",
       "      <th>3</th>\n",
       "      <td>/badc/cmip6/data/CMIP6/CMIP/BCC/BCC-CSM2-MR/hi...</td>\n",
       "      <td>BCC-CSM2-MR</td>\n",
       "      <td>r1i1p1f1</td>\n",
       "      <td>/badc/cmip6/data/CMIP6/CMIP/BCC/BCC-CSM2-MR/hi...</td>\n",
       "    </tr>\n",
       "    <tr>\n",
       "      <th>4</th>\n",
       "      <td>/badc/cmip6/data/CMIP6/CMIP/BCC/BCC-ESM1/histo...</td>\n",
       "      <td>BCC-ESM1</td>\n",
       "      <td>r1i1p1f1</td>\n",
       "      <td>/badc/cmip6/data/CMIP6/CMIP/BCC/BCC-ESM1/histo...</td>\n",
       "    </tr>\n",
       "    <tr>\n",
       "      <th>...</th>\n",
       "      <td>...</td>\n",
       "      <td>...</td>\n",
       "      <td>...</td>\n",
       "      <td>...</td>\n",
       "    </tr>\n",
       "    <tr>\n",
       "      <th>66</th>\n",
       "      <td>/badc/cmip6/data/CMIP6/CMIP/NUIST/NESM3/histor...</td>\n",
       "      <td>NESM3</td>\n",
       "      <td>r1i1p1f1</td>\n",
       "      <td>/badc/cmip6/data/CMIP6/CMIP/NUIST/NESM3/histor...</td>\n",
       "    </tr>\n",
       "    <tr>\n",
       "      <th>67</th>\n",
       "      <td>/badc/cmip6/data/CMIP6/CMIP/SNU/SAM0-UNICON/hi...</td>\n",
       "      <td>SAM0-UNICON</td>\n",
       "      <td>r1i1p1f1</td>\n",
       "      <td>/badc/cmip6/data/CMIP6/CMIP/SNU/SAM0-UNICON/hi...</td>\n",
       "    </tr>\n",
       "    <tr>\n",
       "      <th>68</th>\n",
       "      <td>/badc/cmip6/data/CMIP6/CMIP/THU/CIESM/historic...</td>\n",
       "      <td>CIESM</td>\n",
       "      <td>r1i1p1f1</td>\n",
       "      <td>/badc/cmip6/data/CMIP6/CMIP/THU/CIESM/historic...</td>\n",
       "    </tr>\n",
       "    <tr>\n",
       "      <th>69</th>\n",
       "      <td>/badc/cmip6/data/CMIP6/CMIP/UA/MCM-UA-1-0/hist...</td>\n",
       "      <td>MCM-UA-1-0</td>\n",
       "      <td>r1i1p1f1</td>\n",
       "      <td>/badc/cmip6/data/CMIP6/CMIP/UA/MCM-UA-1-0/hist...</td>\n",
       "    </tr>\n",
       "    <tr>\n",
       "      <th>70</th>\n",
       "      <td>/badc/cmip6/data/CMIP6/CMIP/UA/MCM-UA-1-0/hist...</td>\n",
       "      <td>MCM-UA-1-0</td>\n",
       "      <td>r1i1p1f2</td>\n",
       "      <td>/badc/cmip6/data/CMIP6/CMIP/UA/MCM-UA-1-0/hist...</td>\n",
       "    </tr>\n",
       "  </tbody>\n",
       "</table>\n",
       "<p>71 rows × 4 columns</p>\n",
       "</div>"
      ],
      "text/plain": [
       "                                              ta_dirs           Model  \\\n",
       "0   /badc/cmip6/data/CMIP6/CMIP/AS-RCEC/TaiESM1/hi...         TaiESM1   \n",
       "1   /badc/cmip6/data/CMIP6/CMIP/AWI/AWI-CM-1-1-MR/...   AWI-CM-1-1-MR   \n",
       "2   /badc/cmip6/data/CMIP6/CMIP/AWI/AWI-ESM-1-1-LR...  AWI-ESM-1-1-LR   \n",
       "3   /badc/cmip6/data/CMIP6/CMIP/BCC/BCC-CSM2-MR/hi...     BCC-CSM2-MR   \n",
       "4   /badc/cmip6/data/CMIP6/CMIP/BCC/BCC-ESM1/histo...        BCC-ESM1   \n",
       "..                                                ...             ...   \n",
       "66  /badc/cmip6/data/CMIP6/CMIP/NUIST/NESM3/histor...           NESM3   \n",
       "67  /badc/cmip6/data/CMIP6/CMIP/SNU/SAM0-UNICON/hi...     SAM0-UNICON   \n",
       "68  /badc/cmip6/data/CMIP6/CMIP/THU/CIESM/historic...           CIESM   \n",
       "69  /badc/cmip6/data/CMIP6/CMIP/UA/MCM-UA-1-0/hist...      MCM-UA-1-0   \n",
       "70  /badc/cmip6/data/CMIP6/CMIP/UA/MCM-UA-1-0/hist...      MCM-UA-1-0   \n",
       "\n",
       "   Ensemble_member                                           tas_dirs  \n",
       "0         r1i1p1f1  /badc/cmip6/data/CMIP6/CMIP/AS-RCEC/TaiESM1/hi...  \n",
       "1         r1i1p1f1  /badc/cmip6/data/CMIP6/CMIP/AWI/AWI-CM-1-1-MR/...  \n",
       "2         r1i1p1f1  /badc/cmip6/data/CMIP6/CMIP/AWI/AWI-ESM-1-1-LR...  \n",
       "3         r1i1p1f1  /badc/cmip6/data/CMIP6/CMIP/BCC/BCC-CSM2-MR/hi...  \n",
       "4         r1i1p1f1  /badc/cmip6/data/CMIP6/CMIP/BCC/BCC-ESM1/histo...  \n",
       "..             ...                                                ...  \n",
       "66        r1i1p1f1  /badc/cmip6/data/CMIP6/CMIP/NUIST/NESM3/histor...  \n",
       "67        r1i1p1f1  /badc/cmip6/data/CMIP6/CMIP/SNU/SAM0-UNICON/hi...  \n",
       "68        r1i1p1f1  /badc/cmip6/data/CMIP6/CMIP/THU/CIESM/historic...  \n",
       "69        r1i1p1f1  /badc/cmip6/data/CMIP6/CMIP/UA/MCM-UA-1-0/hist...  \n",
       "70        r1i1p1f2  /badc/cmip6/data/CMIP6/CMIP/UA/MCM-UA-1-0/hist...  \n",
       "\n",
       "[71 rows x 4 columns]"
      ]
     },
     "execution_count": 4,
     "metadata": {},
     "output_type": "execute_result"
    }
   ],
   "source": [
    "df"
   ]
  },
  {
   "cell_type": "code",
   "execution_count": 3,
   "id": "6e58f1a3-ee08-4433-aa6e-5bac1288e4b6",
   "metadata": {},
   "outputs": [
    {
     "data": {
      "text/plain": [
       "'/badc/cmip6/data/CMIP6/CMIP/CCCma/CanESM5/historical/r24i1p1f1/Amon/ta/gn/latest/'"
      ]
     },
     "execution_count": 3,
     "metadata": {},
     "output_type": "execute_result"
    }
   ],
   "source": [
    "### tests processing to inversions on 1 model \n",
    "\n",
    "i=50\n",
    "dir_ta = df['ta_dirs'][i]\n",
    "dir_tas = df['tas_dirs'][i]\n",
    "mod = df['Model'][i]\n",
    "ens = df['Ensemble_member'][i]\n",
    "#mod_ens = model + ensemble_member\n",
    "dir_ta\n",
    "\n",
    "\n",
    "for region in ['sea_ice', 'open_ocean']:\n",
    "    process_inversions(dir_ta=dir_ta, dir_tas=dir_tas, \n",
    "                       region=region, mod=mod, ens=ens)\n",
    "   "
   ]
  },
  {
   "cell_type": "code",
   "execution_count": null,
   "id": "bfedd7cc-cb84-48da-abd8-580ebd905b99",
   "metadata": {},
   "outputs": [
    {
     "name": "stderr",
     "output_type": "stream",
     "text": [
      "  0%|          | 0/131 [00:00<?, ?it/s]"
     ]
    }
   ],
   "source": [
    "### now run over all models:\n",
    "for i in tqdm(np.arange(len(df))):\n",
    "    dir_ta = df['ta_dirs'][i]\n",
    "    dir_tas = df['tas_dirs'][i]\n",
    "    mod = df['Model'][i]\n",
    "    ens = df['Ensemble_member'][i]\n",
    "    for region in ['sea_ice', 'open_ocean']:\n",
    "        process_inversions(dir_ta=dir_ta, dir_tas=dir_tas,\n",
    "                           region=region, mod=mod, ens=ens)\n",
    "   "
   ]
  },
  {
   "cell_type": "code",
   "execution_count": null,
   "id": "5488fd68-31ad-4a77-9873-724b29bde93c",
   "metadata": {},
   "outputs": [
    {
     "name": "stderr",
     "output_type": "stream",
     "text": [
      "  0%|          | 0/71 [00:00<?, ?it/s]"
     ]
    }
   ],
   "source": [
    "for i in tqdm(np.arange(len(df))):\n",
    "    dir_ta = df['ta_dirs'][i]\n",
    "    dir_tas = df['tas_dirs'][i]\n",
    "    mod = df['Model'][i]\n",
    "    ens = df['Ensemble_member'][i]\n",
    "    for region in ['open_ocean']:\n",
    "        process_inversions(dir_ta=dir_ta, dir_tas=dir_tas,\n",
    "                           region=region, mod=mod, ens=ens)\n",
    "   "
   ]
  },
  {
   "cell_type": "code",
   "execution_count": 14,
   "id": "cf72be5f-95d4-4868-b576-78c7dbf66bc6",
   "metadata": {},
   "outputs": [],
   "source": []
  },
  {
   "cell_type": "code",
   "execution_count": null,
   "id": "5c09698a-7d01-4c6f-bfe8-54cd63146ae7",
   "metadata": {},
   "outputs": [],
   "source": []
  },
  {
   "cell_type": "code",
   "execution_count": null,
   "id": "63ceb4c6-a2b7-4ee5-b82a-cd2d1e9b2ba5",
   "metadata": {},
   "outputs": [],
   "source": []
  },
  {
   "cell_type": "code",
   "execution_count": null,
   "id": "0f1b4138-9695-42c1-b69a-61d4f2624f50",
   "metadata": {},
   "outputs": [],
   "source": []
  },
  {
   "cell_type": "code",
   "execution_count": null,
   "id": "57de9cbc-aba9-4cf0-8e51-fa7cb54881f6",
   "metadata": {},
   "outputs": [],
   "source": []
  },
  {
   "cell_type": "code",
   "execution_count": null,
   "id": "dd20cd59-6e03-4c57-9166-80125132e304",
   "metadata": {},
   "outputs": [],
   "source": []
  },
  {
   "cell_type": "code",
   "execution_count": null,
   "id": "5512f503-a22a-494f-b6e7-950b76749f62",
   "metadata": {},
   "outputs": [],
   "source": []
  },
  {
   "cell_type": "code",
   "execution_count": null,
   "id": "aef96d10-12d5-4523-9492-73737872e21e",
   "metadata": {},
   "outputs": [],
   "source": []
  },
  {
   "cell_type": "code",
   "execution_count": null,
   "id": "cfceed44-4ca4-4822-bc58-c85d79281be2",
   "metadata": {},
   "outputs": [],
   "source": []
  }
 ],
 "metadata": {
  "kernelspec": {
   "display_name": "main",
   "language": "python",
   "name": "main"
  },
  "language_info": {
   "codemirror_mode": {
    "name": "ipython",
    "version": 3
   },
   "file_extension": ".py",
   "mimetype": "text/x-python",
   "name": "python",
   "nbconvert_exporter": "python",
   "pygments_lexer": "ipython3",
   "version": "3.10.5"
  }
 },
 "nbformat": 4,
 "nbformat_minor": 5
}
